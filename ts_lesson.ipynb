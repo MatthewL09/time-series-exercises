{
 "cells": [
  {
   "cell_type": "code",
   "execution_count": 1,
   "id": "f6e61fe6-7013-4d76-bb01-fe3ea9b45e08",
   "metadata": {},
   "outputs": [],
   "source": [
    "import pandas as pd\n",
    "import numpy as np\n",
    "import datetime\n",
    "\n",
    "import matplotlib.pyplot as plt\n",
    "import seaborn as sns\n",
    "sns.set()\n",
    "\n",
    "# set figure size\n",
    "plt.rcParams[\"figure.figsize\"] = (8,6)\n",
    "\n",
    "# specify decimal places to display\n",
    "pd.set_option('display.float_format', lambda x: '%.2f' % x)"
   ]
  },
  {
   "cell_type": "markdown",
   "id": "4711ba41-63ab-4a05-a925-501e6610787e",
   "metadata": {},
   "source": [
    "# Datetime objects in Python, Numpy and Pandas\n",
    "- Native python date and times"
   ]
  },
  {
   "cell_type": "code",
   "execution_count": 2,
   "id": "0c6e6eef-4e8a-4ec2-98e2-c9c9faa612bd",
   "metadata": {},
   "outputs": [],
   "source": [
    "from datetime import datetime"
   ]
  },
  {
   "cell_type": "code",
   "execution_count": 7,
   "id": "493f88a1-e4b6-4e69-8ee9-88013508c017",
   "metadata": {},
   "outputs": [
    {
     "data": {
      "text/plain": [
       "datetime.datetime(2022, 4, 12, 0, 0)"
      ]
     },
     "execution_count": 7,
     "metadata": {},
     "output_type": "execute_result"
    }
   ],
   "source": [
    "d = datetime(year = 2022, month =4, day = 12)\n",
    "d"
   ]
  },
  {
   "cell_type": "code",
   "execution_count": 9,
   "id": "c4ad29d2-e1ae-477c-a2bc-75af1125addb",
   "metadata": {},
   "outputs": [
    {
     "data": {
      "text/plain": [
       "'22-April'"
      ]
     },
     "execution_count": 9,
     "metadata": {},
     "output_type": "execute_result"
    }
   ],
   "source": [
    "# once you have a dateime object, you can do things like pringting the day of the week:\n",
    "\n",
    "d.strftime('%y-%B')"
   ]
  },
  {
   "cell_type": "code",
   "execution_count": 10,
   "id": "4f5a389c-7b26-4c22-99e2-8826c00d142e",
   "metadata": {},
   "outputs": [
    {
     "data": {
      "text/plain": [
       "datetime.datetime"
      ]
     },
     "execution_count": 10,
     "metadata": {},
     "output_type": "execute_result"
    }
   ],
   "source": [
    "type(d)"
   ]
  },
  {
   "cell_type": "code",
   "execution_count": 12,
   "id": "01f88c12-cf34-4c51-84ca-c818ae501bb3",
   "metadata": {},
   "outputs": [
    {
     "data": {
      "text/plain": [
       "array('2015-07-14', dtype='datetime64[D]')"
      ]
     },
     "execution_count": 12,
     "metadata": {},
     "output_type": "execute_result"
    }
   ],
   "source": [
    "date = np.array('2015-07-14', dtype = np.datetime64)\n",
    "date"
   ]
  },
  {
   "cell_type": "code",
   "execution_count": 13,
   "id": "d1e72cf3-11ed-4c2b-81d6-683868b653ec",
   "metadata": {},
   "outputs": [
    {
     "data": {
      "text/plain": [
       "array('2015-07-14', dtype='datetime64[D]')"
      ]
     },
     "execution_count": 13,
     "metadata": {},
     "output_type": "execute_result"
    }
   ],
   "source": [
    "date"
   ]
  },
  {
   "cell_type": "code",
   "execution_count": 16,
   "id": "8af3c372-2219-4ca5-9b51-a2d168042b86",
   "metadata": {},
   "outputs": [
    {
     "data": {
      "text/plain": [
       "array([1.  , 1.25, 1.5 , 1.75, 2.  , 2.25, 2.5 , 2.75])"
      ]
     },
     "execution_count": 16,
     "metadata": {},
     "output_type": "execute_result"
    }
   ],
   "source": [
    "np.arange(1,3, 0.25)"
   ]
  },
  {
   "cell_type": "code",
   "execution_count": 18,
   "id": "9b0ce177-4635-4930-ad95-5442ad0dcf76",
   "metadata": {},
   "outputs": [],
   "source": [
    "# Now we can quickly do vectorized operations on it!"
   ]
  },
  {
   "cell_type": "code",
   "execution_count": 19,
   "id": "52ddcf1f-3bd7-4c90-a20b-10c621a090c3",
   "metadata": {},
   "outputs": [
    {
     "data": {
      "text/plain": [
       "array(['2015-07-15', '2015-07-16', '2015-07-17', '2015-07-18'],\n",
       "      dtype='datetime64[D]')"
      ]
     },
     "execution_count": 19,
     "metadata": {},
     "output_type": "execute_result"
    }
   ],
   "source": [
    "date + np.arange(1,5)"
   ]
  },
  {
   "cell_type": "markdown",
   "id": "f6700694-ec4f-44ed-b595-a3d51648c25d",
   "metadata": {},
   "source": [
    "#### Pandas time series data type:\n",
    "- timestamp\n",
    "- 'datetimeindex' = datetime object as index"
   ]
  },
  {
   "cell_type": "code",
   "execution_count": 21,
   "id": "39640ff5-7bb4-44a6-b47a-8ae7cbfc9f20",
   "metadata": {},
   "outputs": [],
   "source": [
    "# layers so far:\n",
    "# basic datetime object\n",
    "# biolt on top of that: np.tatetime64\n",
    "# one more:\n",
    "# pd.Timestamp()"
   ]
  },
  {
   "cell_type": "code",
   "execution_count": 20,
   "id": "853ca2d2-f8d9-4379-a9c6-d975193cd219",
   "metadata": {},
   "outputs": [
    {
     "data": {
      "text/plain": [
       "Timestamp('2021-04-11 01:58:31')"
      ]
     },
     "execution_count": 20,
     "metadata": {},
     "output_type": "execute_result"
    }
   ],
   "source": [
    "t = pd.Timestamp('2021-04-11, 1:58:31')\n",
    "t"
   ]
  },
  {
   "cell_type": "code",
   "execution_count": 23,
   "id": "8ccd7a37-0626-43f8-90e6-22d000eda9ff",
   "metadata": {},
   "outputs": [
    {
     "data": {
      "text/plain": [
       "DatetimeIndex(['2015-07-03', '2015-07-04', '2015-07-06', '2015-07-07',\n",
       "               '2015-07-08'],\n",
       "              dtype='datetime64[ns]', freq=None)"
      ]
     },
     "execution_count": 23,
     "metadata": {},
     "output_type": "execute_result"
    }
   ],
   "source": [
    "# can pandas read these dates?\n",
    "\n",
    "dates = pd.to_datetime([datetime(2015, 7, 3), '4th of July, 2015', \n",
    "                        '2015-Jul-6', '07-07-2015', '20150708'])\n",
    "dates"
   ]
  },
  {
   "cell_type": "code",
   "execution_count": 24,
   "id": "682b6041-46ed-485d-9bf7-6801ec35aba0",
   "metadata": {},
   "outputs": [
    {
     "data": {
      "text/plain": [
       "2"
      ]
     },
     "execution_count": 24,
     "metadata": {},
     "output_type": "execute_result"
    }
   ],
   "source": [
    "t.quarter"
   ]
  },
  {
   "cell_type": "code",
   "execution_count": 25,
   "id": "980a58e2-9c0c-4987-bf30-61ead9c693d9",
   "metadata": {},
   "outputs": [
    {
     "data": {
      "text/plain": [
       "(6, 'Sunday')"
      ]
     },
     "execution_count": 25,
     "metadata": {},
     "output_type": "execute_result"
    }
   ],
   "source": [
    "t.weekday(), t.day_name()"
   ]
  },
  {
   "cell_type": "code",
   "execution_count": 26,
   "id": "7265036d-9a41-4889-ace2-2375f365592e",
   "metadata": {},
   "outputs": [
    {
     "data": {
      "text/html": [
       "<div>\n",
       "<style scoped>\n",
       "    .dataframe tbody tr th:only-of-type {\n",
       "        vertical-align: middle;\n",
       "    }\n",
       "\n",
       "    .dataframe tbody tr th {\n",
       "        vertical-align: top;\n",
       "    }\n",
       "\n",
       "    .dataframe thead th {\n",
       "        text-align: right;\n",
       "    }\n",
       "</style>\n",
       "<table border=\"1\" class=\"dataframe\">\n",
       "  <thead>\n",
       "    <tr style=\"text-align: right;\">\n",
       "      <th></th>\n",
       "      <th>Date</th>\n",
       "      <th>Symbol</th>\n",
       "      <th>Close</th>\n",
       "      <th>Volume</th>\n",
       "    </tr>\n",
       "  </thead>\n",
       "  <tbody>\n",
       "    <tr>\n",
       "      <th>0</th>\n",
       "      <td>2020-03-13 12-PM</td>\n",
       "      <td>ETHUSD</td>\n",
       "      <td>128.71</td>\n",
       "      <td>3906590.52</td>\n",
       "    </tr>\n",
       "    <tr>\n",
       "      <th>1</th>\n",
       "      <td>2020-03-13 12-AM</td>\n",
       "      <td>ETHUSD</td>\n",
       "      <td>129.94</td>\n",
       "      <td>10329663.70</td>\n",
       "    </tr>\n",
       "    <tr>\n",
       "      <th>2</th>\n",
       "      <td>2020-03-13 11-AM</td>\n",
       "      <td>ETHUSD</td>\n",
       "      <td>119.51</td>\n",
       "      <td>3311080.29</td>\n",
       "    </tr>\n",
       "    <tr>\n",
       "      <th>3</th>\n",
       "      <td>2020-03-13 10-AM</td>\n",
       "      <td>ETHUSD</td>\n",
       "      <td>124.47</td>\n",
       "      <td>3483436.48</td>\n",
       "    </tr>\n",
       "    <tr>\n",
       "      <th>4</th>\n",
       "      <td>2020-03-13 09-AM</td>\n",
       "      <td>ETHUSD</td>\n",
       "      <td>124.08</td>\n",
       "      <td>2767584.44</td>\n",
       "    </tr>\n",
       "    <tr>\n",
       "      <th>5</th>\n",
       "      <td>2020-03-13 08-PM</td>\n",
       "      <td>ETHUSD</td>\n",
       "      <td>124.85</td>\n",
       "      <td>1940673.93</td>\n",
       "    </tr>\n",
       "    <tr>\n",
       "      <th>6</th>\n",
       "      <td>2020-03-13 08-AM</td>\n",
       "      <td>ETHUSD</td>\n",
       "      <td>128.39</td>\n",
       "      <td>6808571.23</td>\n",
       "    </tr>\n",
       "    <tr>\n",
       "      <th>7</th>\n",
       "      <td>2020-03-13 07-PM</td>\n",
       "      <td>ETHUSD</td>\n",
       "      <td>134.03</td>\n",
       "      <td>7579741.09</td>\n",
       "    </tr>\n",
       "    <tr>\n",
       "      <th>8</th>\n",
       "      <td>2020-03-13 07-AM</td>\n",
       "      <td>ETHUSD</td>\n",
       "      <td>131.35</td>\n",
       "      <td>5255468.75</td>\n",
       "    </tr>\n",
       "    <tr>\n",
       "      <th>9</th>\n",
       "      <td>2020-03-13 06-PM</td>\n",
       "      <td>ETHUSD</td>\n",
       "      <td>128.93</td>\n",
       "      <td>4898735.81</td>\n",
       "    </tr>\n",
       "  </tbody>\n",
       "</table>\n",
       "</div>"
      ],
      "text/plain": [
       "               Date  Symbol  Close      Volume\n",
       "0  2020-03-13 12-PM  ETHUSD 128.71  3906590.52\n",
       "1  2020-03-13 12-AM  ETHUSD 129.94 10329663.70\n",
       "2  2020-03-13 11-AM  ETHUSD 119.51  3311080.29\n",
       "3  2020-03-13 10-AM  ETHUSD 124.47  3483436.48\n",
       "4  2020-03-13 09-AM  ETHUSD 124.08  2767584.44\n",
       "5  2020-03-13 08-PM  ETHUSD 124.85  1940673.93\n",
       "6  2020-03-13 08-AM  ETHUSD 128.39  6808571.23\n",
       "7  2020-03-13 07-PM  ETHUSD 134.03  7579741.09\n",
       "8  2020-03-13 07-AM  ETHUSD 131.35  5255468.75\n",
       "9  2020-03-13 06-PM  ETHUSD 128.93  4898735.81"
      ]
     },
     "execution_count": 26,
     "metadata": {},
     "output_type": "execute_result"
    }
   ],
   "source": [
    "# We will use Ethererum price data from 2017-2020 to demo Pandas capability for time-series data\n",
    "\n",
    "sheet_url = 'https://docs.google.com/spreadsheets/d/1kTrAFSrr-xP3REs0Lly0TdV4ekrHahBXLg9r5qKxmV8/edit#gid=0'\n",
    "csv_export_url = sheet_url.replace('/edit#gid=', '/export?format=csv&gid=')\n",
    "\n",
    "df = pd.read_csv(csv_export_url)\n",
    "df.head(10)"
   ]
  },
  {
   "cell_type": "code",
   "execution_count": 27,
   "id": "4cd354a5-9eee-4588-8334-f95728f43281",
   "metadata": {},
   "outputs": [
    {
     "name": "stdout",
     "output_type": "stream",
     "text": [
      "<class 'pandas.core.frame.DataFrame'>\n",
      "RangeIndex: 23674 entries, 0 to 23673\n",
      "Data columns (total 4 columns):\n",
      " #   Column  Non-Null Count  Dtype  \n",
      "---  ------  --------------  -----  \n",
      " 0   Date    23674 non-null  object \n",
      " 1   Symbol  23674 non-null  object \n",
      " 2   Close   23674 non-null  float64\n",
      " 3   Volume  23674 non-null  float64\n",
      "dtypes: float64(2), object(2)\n",
      "memory usage: 739.9+ KB\n"
     ]
    }
   ],
   "source": [
    "df.info()"
   ]
  },
  {
   "cell_type": "code",
   "execution_count": 28,
   "id": "d10f0dde-02c6-43ea-b5d1-154f2360d4e7",
   "metadata": {},
   "outputs": [
    {
     "data": {
      "text/plain": [
       "Date      0\n",
       "Symbol    0\n",
       "Close     0\n",
       "Volume    0\n",
       "dtype: int64"
      ]
     },
     "execution_count": 28,
     "metadata": {},
     "output_type": "execute_result"
    }
   ],
   "source": [
    "# check for nulls\n",
    "\n",
    "df.isnull().sum()"
   ]
  },
  {
   "cell_type": "code",
   "execution_count": 29,
   "id": "98ae0c6a-ae53-4a93-822e-840935deaf89",
   "metadata": {},
   "outputs": [
    {
     "data": {
      "text/plain": [
       "<AxesSubplot:>"
      ]
     },
     "execution_count": 29,
     "metadata": {},
     "output_type": "execute_result"
    },
    {
     "data": {
      "image/png": "[encoded data removed]",
      "text/plain": [
       "<Figure size 576x432 with 1 Axes>"
      ]
     },
     "metadata": {},
     "output_type": "display_data"
    }
   ],
   "source": [
    "# use pandas .plot()\n",
    "\n",
    "df.Close.plot()"
   ]
  },
  {
   "cell_type": "markdown",
   "id": "94c6e506-a0d8-4c98-97b1-337e2737b68e",
   "metadata": {},
   "source": [
    "### Time series analysis: How to make pandas time-aware and leverage inbuild functionality:\n",
    "\n",
    "Convert 'date/time' column to datetime object in Pandas (pd.to_datetime())\n",
    "Set the datetime column as Index\n",
    "Sort the datetime index"
   ]
  },
  {
   "cell_type": "code",
   "execution_count": 30,
   "id": "da3c14b3-f3da-4fb1-9b4c-abb45596fe1c",
   "metadata": {},
   "outputs": [
    {
     "data": {
      "text/plain": [
       "Timestamp('1970-01-01 00:00:00')"
      ]
     },
     "execution_count": 30,
     "metadata": {},
     "output_type": "execute_result"
    }
   ],
   "source": [
    "pd.to_datetime('Jan 1 1970')"
   ]
  },
  {
   "cell_type": "markdown",
   "id": "f76e0438-3ac9-4d94-bb18-1f8c4e1c6cab",
   "metadata": {},
   "source": [
    "#### Can pandas read this datetime string?\n",
    "\n",
    "pd.to_datetime('2020=04-11 2PM')"
   ]
  },
  {
   "cell_type": "code",
   "execution_count": 32,
   "id": "cb86adf8-66cb-48d4-835c-38e8107cf051",
   "metadata": {},
   "outputs": [
    {
     "data": {
      "text/plain": [
       "Timestamp('2020-03-13 20:00:00')"
      ]
     },
     "execution_count": 32,
     "metadata": {},
     "output_type": "execute_result"
    }
   ],
   "source": [
    "# Sometimes we have to specify the format of the datatime string to help pandas parse the date/time)\n",
    "\n",
    "pd.to_datetime('2020-03-13 08-PM', format='%Y-%m-%d %I-%p')"
   ]
  },
  {
   "cell_type": "code",
   "execution_count": 33,
   "id": "5df7648b-e7fb-4840-8a15-e2838de2e045",
   "metadata": {},
   "outputs": [
    {
     "data": {
      "text/html": [
       "<div>\n",
       "<style scoped>\n",
       "    .dataframe tbody tr th:only-of-type {\n",
       "        vertical-align: middle;\n",
       "    }\n",
       "\n",
       "    .dataframe tbody tr th {\n",
       "        vertical-align: top;\n",
       "    }\n",
       "\n",
       "    .dataframe thead th {\n",
       "        text-align: right;\n",
       "    }\n",
       "</style>\n",
       "<table border=\"1\" class=\"dataframe\">\n",
       "  <thead>\n",
       "    <tr style=\"text-align: right;\">\n",
       "      <th></th>\n",
       "      <th>Date</th>\n",
       "      <th>Symbol</th>\n",
       "      <th>Close</th>\n",
       "      <th>Volume</th>\n",
       "    </tr>\n",
       "  </thead>\n",
       "  <tbody>\n",
       "    <tr>\n",
       "      <th>0</th>\n",
       "      <td>2020-03-13 12-PM</td>\n",
       "      <td>ETHUSD</td>\n",
       "      <td>128.71</td>\n",
       "      <td>3906590.52</td>\n",
       "    </tr>\n",
       "    <tr>\n",
       "      <th>1</th>\n",
       "      <td>2020-03-13 12-AM</td>\n",
       "      <td>ETHUSD</td>\n",
       "      <td>129.94</td>\n",
       "      <td>10329663.70</td>\n",
       "    </tr>\n",
       "    <tr>\n",
       "      <th>2</th>\n",
       "      <td>2020-03-13 11-AM</td>\n",
       "      <td>ETHUSD</td>\n",
       "      <td>119.51</td>\n",
       "      <td>3311080.29</td>\n",
       "    </tr>\n",
       "    <tr>\n",
       "      <th>3</th>\n",
       "      <td>2020-03-13 10-AM</td>\n",
       "      <td>ETHUSD</td>\n",
       "      <td>124.47</td>\n",
       "      <td>3483436.48</td>\n",
       "    </tr>\n",
       "    <tr>\n",
       "      <th>4</th>\n",
       "      <td>2020-03-13 09-AM</td>\n",
       "      <td>ETHUSD</td>\n",
       "      <td>124.08</td>\n",
       "      <td>2767584.44</td>\n",
       "    </tr>\n",
       "  </tbody>\n",
       "</table>\n",
       "</div>"
      ],
      "text/plain": [
       "               Date  Symbol  Close      Volume\n",
       "0  2020-03-13 12-PM  ETHUSD 128.71  3906590.52\n",
       "1  2020-03-13 12-AM  ETHUSD 129.94 10329663.70\n",
       "2  2020-03-13 11-AM  ETHUSD 119.51  3311080.29\n",
       "3  2020-03-13 10-AM  ETHUSD 124.47  3483436.48\n",
       "4  2020-03-13 09-AM  ETHUSD 124.08  2767584.44"
      ]
     },
     "execution_count": 33,
     "metadata": {},
     "output_type": "execute_result"
    }
   ],
   "source": [
    "df.head()"
   ]
  },
  {
   "cell_type": "code",
   "execution_count": 35,
   "id": "17513d25-1aa4-437f-a2ca-e4352c2ccc45",
   "metadata": {},
   "outputs": [],
   "source": [
    "# step 1: Lets convert the \"Date\" column in our df to pandas dataframe\n",
    "df.Date = pd.to_datetime(df.Date, format = '%Y-%m-%d %I-%p')"
   ]
  },
  {
   "cell_type": "code",
   "execution_count": 42,
   "id": "9f2704e1-9044-4cea-9e2e-668f78076fe6",
   "metadata": {},
   "outputs": [
    {
     "data": {
      "text/plain": [
       "(0       2020-03-13 12:00:00\n",
       " 1       2020-03-13 00:00:00\n",
       " 2       2020-03-13 11:00:00\n",
       " 3       2020-03-13 10:00:00\n",
       " 4       2020-03-13 09:00:00\n",
       "                 ...        \n",
       " 23669   2017-07-01 17:00:00\n",
       " 23670   2017-07-01 16:00:00\n",
       " 23671   2017-07-01 15:00:00\n",
       " 23672   2017-07-01 14:00:00\n",
       " 23673   2017-07-01 13:00:00\n",
       " Name: Date, Length: 23674, dtype: datetime64[ns],\n",
       " Date      datetime64[ns]\n",
       " Symbol            object\n",
       " Close            float64\n",
       " Volume           float64\n",
       " dtype: object)"
      ]
     },
     "execution_count": 42,
     "metadata": {},
     "output_type": "execute_result"
    }
   ],
   "source": [
    "# confrim that the 'Date' column is indeed a dateime object now\n",
    "df.Date, df.dtypes"
   ]
  },
  {
   "cell_type": "code",
   "execution_count": 43,
   "id": "a08ec647-5a12-4c25-8d06-125dbd24767f",
   "metadata": {},
   "outputs": [],
   "source": [
    "# step 2 and 3 combined: Set 'Date' column as Index and sort the index\n",
    "df = df.set_index('Date').sort_index()"
   ]
  },
  {
   "cell_type": "code",
   "execution_count": 44,
   "id": "42319c40-6ba6-4e37-b862-48dee08bf536",
   "metadata": {},
   "outputs": [
    {
     "data": {
      "text/html": [
       "<div>\n",
       "<style scoped>\n",
       "    .dataframe tbody tr th:only-of-type {\n",
       "        vertical-align: middle;\n",
       "    }\n",
       "\n",
       "    .dataframe tbody tr th {\n",
       "        vertical-align: top;\n",
       "    }\n",
       "\n",
       "    .dataframe thead th {\n",
       "        text-align: right;\n",
       "    }\n",
       "</style>\n",
       "<table border=\"1\" class=\"dataframe\">\n",
       "  <thead>\n",
       "    <tr style=\"text-align: right;\">\n",
       "      <th></th>\n",
       "      <th>Symbol</th>\n",
       "      <th>Close</th>\n",
       "      <th>Volume</th>\n",
       "    </tr>\n",
       "    <tr>\n",
       "      <th>Date</th>\n",
       "      <th></th>\n",
       "      <th></th>\n",
       "      <th></th>\n",
       "    </tr>\n",
       "  </thead>\n",
       "  <tbody>\n",
       "    <tr>\n",
       "      <th>2017-07-01 11:00:00</th>\n",
       "      <td>ETHUSD</td>\n",
       "      <td>257.13</td>\n",
       "      <td>679358.87</td>\n",
       "    </tr>\n",
       "    <tr>\n",
       "      <th>2017-07-01 12:00:00</th>\n",
       "      <td>ETHUSD</td>\n",
       "      <td>263.12</td>\n",
       "      <td>824362.87</td>\n",
       "    </tr>\n",
       "    <tr>\n",
       "      <th>2017-07-01 13:00:00</th>\n",
       "      <td>ETHUSD</td>\n",
       "      <td>275.01</td>\n",
       "      <td>3010787.99</td>\n",
       "    </tr>\n",
       "    <tr>\n",
       "      <th>2017-07-01 14:00:00</th>\n",
       "      <td>ETHUSD</td>\n",
       "      <td>274.83</td>\n",
       "      <td>1702536.85</td>\n",
       "    </tr>\n",
       "    <tr>\n",
       "      <th>2017-07-01 15:00:00</th>\n",
       "      <td>ETHUSD</td>\n",
       "      <td>268.79</td>\n",
       "      <td>1500282.55</td>\n",
       "    </tr>\n",
       "  </tbody>\n",
       "</table>\n",
       "</div>"
      ],
      "text/plain": [
       "                     Symbol  Close     Volume\n",
       "Date                                         \n",
       "2017-07-01 11:00:00  ETHUSD 257.13  679358.87\n",
       "2017-07-01 12:00:00  ETHUSD 263.12  824362.87\n",
       "2017-07-01 13:00:00  ETHUSD 275.01 3010787.99\n",
       "2017-07-01 14:00:00  ETHUSD 274.83 1702536.85\n",
       "2017-07-01 15:00:00  ETHUSD 268.79 1500282.55"
      ]
     },
     "execution_count": 44,
     "metadata": {},
     "output_type": "execute_result"
    }
   ],
   "source": [
    "df.head()"
   ]
  },
  {
   "cell_type": "code",
   "execution_count": 45,
   "id": "26e60b3f-8ba1-420b-be92-c34d4c9d5a03",
   "metadata": {},
   "outputs": [
    {
     "data": {
      "text/plain": [
       "pandas.core.indexes.datetimes.DatetimeIndex"
      ]
     },
     "execution_count": 45,
     "metadata": {},
     "output_type": "execute_result"
    }
   ],
   "source": [
    "type(df.index)"
   ]
  },
  {
   "cell_type": "code",
   "execution_count": 46,
   "id": "59bbc27b-8bf9-4000-8248-c032661bd629",
   "metadata": {},
   "outputs": [
    {
     "data": {
      "text/plain": [
       "<AxesSubplot:xlabel='Date'>"
      ]
     },
     "execution_count": 46,
     "metadata": {},
     "output_type": "execute_result"
    },
    {
     "data": {
      "image/png": "[encoded data removed]",
      "text/plain": [
       "<Figure size 576x432 with 1 Axes>"
      ]
     },
     "metadata": {},
     "output_type": "display_data"
    }
   ],
   "source": [
    "# lets plot the closing price again and how it compares to previously plotted\n",
    "df.Close.plot()"
   ]
  },
  {
   "cell_type": "code",
   "execution_count": 47,
   "id": "9069667f-d819-4cff-b990-542c3c0a4851",
   "metadata": {},
   "outputs": [
    {
     "data": {
      "text/html": [
       "<div>\n",
       "<style scoped>\n",
       "    .dataframe tbody tr th:only-of-type {\n",
       "        vertical-align: middle;\n",
       "    }\n",
       "\n",
       "    .dataframe tbody tr th {\n",
       "        vertical-align: top;\n",
       "    }\n",
       "\n",
       "    .dataframe thead th {\n",
       "        text-align: right;\n",
       "    }\n",
       "</style>\n",
       "<table border=\"1\" class=\"dataframe\">\n",
       "  <thead>\n",
       "    <tr style=\"text-align: right;\">\n",
       "      <th></th>\n",
       "      <th>Symbol</th>\n",
       "      <th>Close</th>\n",
       "      <th>Volume</th>\n",
       "    </tr>\n",
       "    <tr>\n",
       "      <th>Date</th>\n",
       "      <th></th>\n",
       "      <th></th>\n",
       "      <th></th>\n",
       "    </tr>\n",
       "  </thead>\n",
       "  <tbody>\n",
       "    <tr>\n",
       "      <th>2017-07-01 11:00:00</th>\n",
       "      <td>ETHUSD</td>\n",
       "      <td>257.13</td>\n",
       "      <td>679358.87</td>\n",
       "    </tr>\n",
       "    <tr>\n",
       "      <th>2017-07-01 12:00:00</th>\n",
       "      <td>ETHUSD</td>\n",
       "      <td>263.12</td>\n",
       "      <td>824362.87</td>\n",
       "    </tr>\n",
       "    <tr>\n",
       "      <th>2017-07-01 13:00:00</th>\n",
       "      <td>ETHUSD</td>\n",
       "      <td>275.01</td>\n",
       "      <td>3010787.99</td>\n",
       "    </tr>\n",
       "    <tr>\n",
       "      <th>2017-07-01 14:00:00</th>\n",
       "      <td>ETHUSD</td>\n",
       "      <td>274.83</td>\n",
       "      <td>1702536.85</td>\n",
       "    </tr>\n",
       "    <tr>\n",
       "      <th>2017-07-01 15:00:00</th>\n",
       "      <td>ETHUSD</td>\n",
       "      <td>268.79</td>\n",
       "      <td>1500282.55</td>\n",
       "    </tr>\n",
       "  </tbody>\n",
       "</table>\n",
       "</div>"
      ],
      "text/plain": [
       "                     Symbol  Close     Volume\n",
       "Date                                         \n",
       "2017-07-01 11:00:00  ETHUSD 257.13  679358.87\n",
       "2017-07-01 12:00:00  ETHUSD 263.12  824362.87\n",
       "2017-07-01 13:00:00  ETHUSD 275.01 3010787.99\n",
       "2017-07-01 14:00:00  ETHUSD 274.83 1702536.85\n",
       "2017-07-01 15:00:00  ETHUSD 268.79 1500282.55"
      ]
     },
     "execution_count": 47,
     "metadata": {},
     "output_type": "execute_result"
    }
   ],
   "source": [
    "df.head()"
   ]
  },
  {
   "cell_type": "code",
   "execution_count": 50,
   "id": "f0a6ca04-b42f-4b6b-96f1-955ca65a7c0c",
   "metadata": {},
   "outputs": [],
   "source": [
    "# add a new column called 'day' which is the weekday'\n",
    "df['day'] = df.index.day_name()"
   ]
  },
  {
   "cell_type": "code",
   "execution_count": 51,
   "id": "b22a8208-0aee-4313-9f2e-b5f2f1e5c41b",
   "metadata": {},
   "outputs": [
    {
     "data": {
      "text/html": [
       "<div>\n",
       "<style scoped>\n",
       "    .dataframe tbody tr th:only-of-type {\n",
       "        vertical-align: middle;\n",
       "    }\n",
       "\n",
       "    .dataframe tbody tr th {\n",
       "        vertical-align: top;\n",
       "    }\n",
       "\n",
       "    .dataframe thead th {\n",
       "        text-align: right;\n",
       "    }\n",
       "</style>\n",
       "<table border=\"1\" class=\"dataframe\">\n",
       "  <thead>\n",
       "    <tr style=\"text-align: right;\">\n",
       "      <th></th>\n",
       "      <th>Symbol</th>\n",
       "      <th>Close</th>\n",
       "      <th>Volume</th>\n",
       "      <th>day</th>\n",
       "    </tr>\n",
       "    <tr>\n",
       "      <th>Date</th>\n",
       "      <th></th>\n",
       "      <th></th>\n",
       "      <th></th>\n",
       "      <th></th>\n",
       "    </tr>\n",
       "  </thead>\n",
       "  <tbody>\n",
       "    <tr>\n",
       "      <th>2017-07-01 11:00:00</th>\n",
       "      <td>ETHUSD</td>\n",
       "      <td>257.13</td>\n",
       "      <td>679358.87</td>\n",
       "      <td>Saturday</td>\n",
       "    </tr>\n",
       "    <tr>\n",
       "      <th>2017-07-01 12:00:00</th>\n",
       "      <td>ETHUSD</td>\n",
       "      <td>263.12</td>\n",
       "      <td>824362.87</td>\n",
       "      <td>Saturday</td>\n",
       "    </tr>\n",
       "    <tr>\n",
       "      <th>2017-07-01 13:00:00</th>\n",
       "      <td>ETHUSD</td>\n",
       "      <td>275.01</td>\n",
       "      <td>3010787.99</td>\n",
       "      <td>Saturday</td>\n",
       "    </tr>\n",
       "    <tr>\n",
       "      <th>2017-07-01 14:00:00</th>\n",
       "      <td>ETHUSD</td>\n",
       "      <td>274.83</td>\n",
       "      <td>1702536.85</td>\n",
       "      <td>Saturday</td>\n",
       "    </tr>\n",
       "    <tr>\n",
       "      <th>2017-07-01 15:00:00</th>\n",
       "      <td>ETHUSD</td>\n",
       "      <td>268.79</td>\n",
       "      <td>1500282.55</td>\n",
       "      <td>Saturday</td>\n",
       "    </tr>\n",
       "  </tbody>\n",
       "</table>\n",
       "</div>"
      ],
      "text/plain": [
       "                     Symbol  Close     Volume       day\n",
       "Date                                                   \n",
       "2017-07-01 11:00:00  ETHUSD 257.13  679358.87  Saturday\n",
       "2017-07-01 12:00:00  ETHUSD 263.12  824362.87  Saturday\n",
       "2017-07-01 13:00:00  ETHUSD 275.01 3010787.99  Saturday\n",
       "2017-07-01 14:00:00  ETHUSD 274.83 1702536.85  Saturday\n",
       "2017-07-01 15:00:00  ETHUSD 268.79 1500282.55  Saturday"
      ]
     },
     "execution_count": 51,
     "metadata": {},
     "output_type": "execute_result"
    }
   ],
   "source": [
    "df.head()"
   ]
  },
  {
   "cell_type": "code",
   "execution_count": 52,
   "id": "9a06fe3a-c26d-4f64-b467-d9918109048a",
   "metadata": {},
   "outputs": [
    {
     "data": {
      "text/plain": [
       "<AxesSubplot:xlabel='day'>"
      ]
     },
     "execution_count": 52,
     "metadata": {},
     "output_type": "execute_result"
    },
    {
     "data": {
      "image/png": "[encoded data removed]",
      "text/plain": [
       "<Figure size 576x432 with 1 Axes>"
      ]
     },
     "metadata": {},
     "output_type": "display_data"
    }
   ],
   "source": [
    "# can i use groupby to see mean trading volumn by day?\n",
    "\n",
    "df.groupby('day').mean().Volume.plot()"
   ]
  },
  {
   "cell_type": "markdown",
   "id": "0a21230c-8cd8-49f3-b8e2-a3f0f9957ff7",
   "metadata": {},
   "source": [
    "# How to choose subset of a dataframe?"
   ]
  },
  {
   "cell_type": "code",
   "execution_count": 59,
   "id": "aafb0f36-b48d-485a-a088-7adef7846787",
   "metadata": {},
   "outputs": [
    {
     "data": {
      "text/html": [
       "<div>\n",
       "<style scoped>\n",
       "    .dataframe tbody tr th:only-of-type {\n",
       "        vertical-align: middle;\n",
       "    }\n",
       "\n",
       "    .dataframe tbody tr th {\n",
       "        vertical-align: top;\n",
       "    }\n",
       "\n",
       "    .dataframe thead th {\n",
       "        text-align: right;\n",
       "    }\n",
       "</style>\n",
       "<table border=\"1\" class=\"dataframe\">\n",
       "  <thead>\n",
       "    <tr style=\"text-align: right;\">\n",
       "      <th></th>\n",
       "      <th>Symbol</th>\n",
       "      <th>Close</th>\n",
       "      <th>Volume</th>\n",
       "      <th>day</th>\n",
       "    </tr>\n",
       "    <tr>\n",
       "      <th>Date</th>\n",
       "      <th></th>\n",
       "      <th></th>\n",
       "      <th></th>\n",
       "      <th></th>\n",
       "    </tr>\n",
       "  </thead>\n",
       "  <tbody>\n",
       "    <tr>\n",
       "      <th>2017-07-01 11:00:00</th>\n",
       "      <td>ETHUSD</td>\n",
       "      <td>257.13</td>\n",
       "      <td>679358.87</td>\n",
       "      <td>Saturday</td>\n",
       "    </tr>\n",
       "    <tr>\n",
       "      <th>2017-07-01 12:00:00</th>\n",
       "      <td>ETHUSD</td>\n",
       "      <td>263.12</td>\n",
       "      <td>824362.87</td>\n",
       "      <td>Saturday</td>\n",
       "    </tr>\n",
       "    <tr>\n",
       "      <th>2017-07-01 13:00:00</th>\n",
       "      <td>ETHUSD</td>\n",
       "      <td>275.01</td>\n",
       "      <td>3010787.99</td>\n",
       "      <td>Saturday</td>\n",
       "    </tr>\n",
       "    <tr>\n",
       "      <th>2017-07-01 14:00:00</th>\n",
       "      <td>ETHUSD</td>\n",
       "      <td>274.83</td>\n",
       "      <td>1702536.85</td>\n",
       "      <td>Saturday</td>\n",
       "    </tr>\n",
       "    <tr>\n",
       "      <th>2017-07-01 15:00:00</th>\n",
       "      <td>ETHUSD</td>\n",
       "      <td>268.79</td>\n",
       "      <td>1500282.55</td>\n",
       "      <td>Saturday</td>\n",
       "    </tr>\n",
       "    <tr>\n",
       "      <th>...</th>\n",
       "      <td>...</td>\n",
       "      <td>...</td>\n",
       "      <td>...</td>\n",
       "      <td>...</td>\n",
       "    </tr>\n",
       "    <tr>\n",
       "      <th>2020-03-13 16:00:00</th>\n",
       "      <td>ETHUSD</td>\n",
       "      <td>127.57</td>\n",
       "      <td>4461424.71</td>\n",
       "      <td>Friday</td>\n",
       "    </tr>\n",
       "    <tr>\n",
       "      <th>2020-03-13 17:00:00</th>\n",
       "      <td>ETHUSD</td>\n",
       "      <td>133.80</td>\n",
       "      <td>2753450.92</td>\n",
       "      <td>Friday</td>\n",
       "    </tr>\n",
       "    <tr>\n",
       "      <th>2020-03-13 18:00:00</th>\n",
       "      <td>ETHUSD</td>\n",
       "      <td>128.93</td>\n",
       "      <td>4898735.81</td>\n",
       "      <td>Friday</td>\n",
       "    </tr>\n",
       "    <tr>\n",
       "      <th>2020-03-13 19:00:00</th>\n",
       "      <td>ETHUSD</td>\n",
       "      <td>134.03</td>\n",
       "      <td>7579741.09</td>\n",
       "      <td>Friday</td>\n",
       "    </tr>\n",
       "    <tr>\n",
       "      <th>2020-03-13 20:00:00</th>\n",
       "      <td>ETHUSD</td>\n",
       "      <td>124.85</td>\n",
       "      <td>1940673.93</td>\n",
       "      <td>Friday</td>\n",
       "    </tr>\n",
       "  </tbody>\n",
       "</table>\n",
       "<p>23674 rows × 4 columns</p>\n",
       "</div>"
      ],
      "text/plain": [
       "                     Symbol  Close     Volume       day\n",
       "Date                                                   \n",
       "2017-07-01 11:00:00  ETHUSD 257.13  679358.87  Saturday\n",
       "2017-07-01 12:00:00  ETHUSD 263.12  824362.87  Saturday\n",
       "2017-07-01 13:00:00  ETHUSD 275.01 3010787.99  Saturday\n",
       "2017-07-01 14:00:00  ETHUSD 274.83 1702536.85  Saturday\n",
       "2017-07-01 15:00:00  ETHUSD 268.79 1500282.55  Saturday\n",
       "...                     ...    ...        ...       ...\n",
       "2020-03-13 16:00:00  ETHUSD 127.57 4461424.71    Friday\n",
       "2020-03-13 17:00:00  ETHUSD 133.80 2753450.92    Friday\n",
       "2020-03-13 18:00:00  ETHUSD 128.93 4898735.81    Friday\n",
       "2020-03-13 19:00:00  ETHUSD 134.03 7579741.09    Friday\n",
       "2020-03-13 20:00:00  ETHUSD 124.85 1940673.93    Friday\n",
       "\n",
       "[23674 rows x 4 columns]"
      ]
     },
     "execution_count": 59,
     "metadata": {},
     "output_type": "execute_result"
    }
   ],
   "source": [
    "# notice where the indexing stops\n",
    "df"
   ]
  },
  {
   "cell_type": "code",
   "execution_count": 65,
   "id": "4bfb6197-765f-498a-85ae-894a24d2cf0f",
   "metadata": {},
   "outputs": [
    {
     "data": {
      "text/plain": [
       "Symbol      ETHUSD\n",
       "Close       257.13\n",
       "Volume   679358.87\n",
       "day       Saturday\n",
       "Name: 2017-07-01 11:00:00, dtype: object"
      ]
     },
     "execution_count": 65,
     "metadata": {},
     "output_type": "execute_result"
    }
   ],
   "source": [
    "df.loc['2017-07-1 11:00:00']"
   ]
  },
  {
   "cell_type": "code",
   "execution_count": 66,
   "id": "5bc513a6-53a8-4d8a-96e9-86ee996c5414",
   "metadata": {},
   "outputs": [
    {
     "data": {
      "text/html": [
       "<div>\n",
       "<style scoped>\n",
       "    .dataframe tbody tr th:only-of-type {\n",
       "        vertical-align: middle;\n",
       "    }\n",
       "\n",
       "    .dataframe tbody tr th {\n",
       "        vertical-align: top;\n",
       "    }\n",
       "\n",
       "    .dataframe thead th {\n",
       "        text-align: right;\n",
       "    }\n",
       "</style>\n",
       "<table border=\"1\" class=\"dataframe\">\n",
       "  <thead>\n",
       "    <tr style=\"text-align: right;\">\n",
       "      <th></th>\n",
       "      <th>Symbol</th>\n",
       "      <th>Close</th>\n",
       "      <th>Volume</th>\n",
       "      <th>day</th>\n",
       "    </tr>\n",
       "    <tr>\n",
       "      <th>Date</th>\n",
       "      <th></th>\n",
       "      <th></th>\n",
       "      <th></th>\n",
       "      <th></th>\n",
       "    </tr>\n",
       "  </thead>\n",
       "  <tbody>\n",
       "    <tr>\n",
       "      <th>2017-07-01 11:00:00</th>\n",
       "      <td>ETHUSD</td>\n",
       "      <td>257.13</td>\n",
       "      <td>679358.87</td>\n",
       "      <td>Saturday</td>\n",
       "    </tr>\n",
       "    <tr>\n",
       "      <th>2017-07-01 12:00:00</th>\n",
       "      <td>ETHUSD</td>\n",
       "      <td>263.12</td>\n",
       "      <td>824362.87</td>\n",
       "      <td>Saturday</td>\n",
       "    </tr>\n",
       "    <tr>\n",
       "      <th>2017-07-01 13:00:00</th>\n",
       "      <td>ETHUSD</td>\n",
       "      <td>275.01</td>\n",
       "      <td>3010787.99</td>\n",
       "      <td>Saturday</td>\n",
       "    </tr>\n",
       "    <tr>\n",
       "      <th>2017-07-01 14:00:00</th>\n",
       "      <td>ETHUSD</td>\n",
       "      <td>274.83</td>\n",
       "      <td>1702536.85</td>\n",
       "      <td>Saturday</td>\n",
       "    </tr>\n",
       "    <tr>\n",
       "      <th>2017-07-01 15:00:00</th>\n",
       "      <td>ETHUSD</td>\n",
       "      <td>268.79</td>\n",
       "      <td>1500282.55</td>\n",
       "      <td>Saturday</td>\n",
       "    </tr>\n",
       "    <tr>\n",
       "      <th>...</th>\n",
       "      <td>...</td>\n",
       "      <td>...</td>\n",
       "      <td>...</td>\n",
       "      <td>...</td>\n",
       "    </tr>\n",
       "    <tr>\n",
       "      <th>2019-12-31 19:00:00</th>\n",
       "      <td>ETHUSD</td>\n",
       "      <td>131.10</td>\n",
       "      <td>1169847.84</td>\n",
       "      <td>Tuesday</td>\n",
       "    </tr>\n",
       "    <tr>\n",
       "      <th>2019-12-31 20:00:00</th>\n",
       "      <td>ETHUSD</td>\n",
       "      <td>129.29</td>\n",
       "      <td>428183.38</td>\n",
       "      <td>Tuesday</td>\n",
       "    </tr>\n",
       "    <tr>\n",
       "      <th>2019-12-31 21:00:00</th>\n",
       "      <td>ETHUSD</td>\n",
       "      <td>128.83</td>\n",
       "      <td>350155.69</td>\n",
       "      <td>Tuesday</td>\n",
       "    </tr>\n",
       "    <tr>\n",
       "      <th>2019-12-31 22:00:00</th>\n",
       "      <td>ETHUSD</td>\n",
       "      <td>127.84</td>\n",
       "      <td>554646.02</td>\n",
       "      <td>Tuesday</td>\n",
       "    </tr>\n",
       "    <tr>\n",
       "      <th>2019-12-31 23:00:00</th>\n",
       "      <td>ETHUSD</td>\n",
       "      <td>128.38</td>\n",
       "      <td>440678.91</td>\n",
       "      <td>Tuesday</td>\n",
       "    </tr>\n",
       "  </tbody>\n",
       "</table>\n",
       "<p>21925 rows × 4 columns</p>\n",
       "</div>"
      ],
      "text/plain": [
       "                     Symbol  Close     Volume       day\n",
       "Date                                                   \n",
       "2017-07-01 11:00:00  ETHUSD 257.13  679358.87  Saturday\n",
       "2017-07-01 12:00:00  ETHUSD 263.12  824362.87  Saturday\n",
       "2017-07-01 13:00:00  ETHUSD 275.01 3010787.99  Saturday\n",
       "2017-07-01 14:00:00  ETHUSD 274.83 1702536.85  Saturday\n",
       "2017-07-01 15:00:00  ETHUSD 268.79 1500282.55  Saturday\n",
       "...                     ...    ...        ...       ...\n",
       "2019-12-31 19:00:00  ETHUSD 131.10 1169847.84   Tuesday\n",
       "2019-12-31 20:00:00  ETHUSD 129.29  428183.38   Tuesday\n",
       "2019-12-31 21:00:00  ETHUSD 128.83  350155.69   Tuesday\n",
       "2019-12-31 22:00:00  ETHUSD 127.84  554646.02   Tuesday\n",
       "2019-12-31 23:00:00  ETHUSD 128.38  440678.91   Tuesday\n",
       "\n",
       "[21925 rows x 4 columns]"
      ]
     },
     "execution_count": 66,
     "metadata": {},
     "output_type": "execute_result"
    }
   ],
   "source": [
    "# changing the range of the dataframe\n",
    "df['2017': '2019']"
   ]
  },
  {
   "cell_type": "code",
   "execution_count": 62,
   "id": "4f840894-5bf4-495e-9917-6788557bcac5",
   "metadata": {},
   "outputs": [
    {
     "data": {
      "text/html": [
       "<div>\n",
       "<style scoped>\n",
       "    .dataframe tbody tr th:only-of-type {\n",
       "        vertical-align: middle;\n",
       "    }\n",
       "\n",
       "    .dataframe tbody tr th {\n",
       "        vertical-align: top;\n",
       "    }\n",
       "\n",
       "    .dataframe thead th {\n",
       "        text-align: right;\n",
       "    }\n",
       "</style>\n",
       "<table border=\"1\" class=\"dataframe\">\n",
       "  <thead>\n",
       "    <tr style=\"text-align: right;\">\n",
       "      <th></th>\n",
       "      <th>Symbol</th>\n",
       "      <th>Close</th>\n",
       "      <th>Volume</th>\n",
       "      <th>day</th>\n",
       "    </tr>\n",
       "    <tr>\n",
       "      <th>Date</th>\n",
       "      <th></th>\n",
       "      <th></th>\n",
       "      <th></th>\n",
       "      <th></th>\n",
       "    </tr>\n",
       "  </thead>\n",
       "  <tbody>\n",
       "    <tr>\n",
       "      <th>2017-07-01 11:00:00</th>\n",
       "      <td>ETHUSD</td>\n",
       "      <td>257.13</td>\n",
       "      <td>679358.87</td>\n",
       "      <td>Saturday</td>\n",
       "    </tr>\n",
       "    <tr>\n",
       "      <th>2017-07-01 12:00:00</th>\n",
       "      <td>ETHUSD</td>\n",
       "      <td>263.12</td>\n",
       "      <td>824362.87</td>\n",
       "      <td>Saturday</td>\n",
       "    </tr>\n",
       "    <tr>\n",
       "      <th>2017-07-01 13:00:00</th>\n",
       "      <td>ETHUSD</td>\n",
       "      <td>275.01</td>\n",
       "      <td>3010787.99</td>\n",
       "      <td>Saturday</td>\n",
       "    </tr>\n",
       "    <tr>\n",
       "      <th>2017-07-01 14:00:00</th>\n",
       "      <td>ETHUSD</td>\n",
       "      <td>274.83</td>\n",
       "      <td>1702536.85</td>\n",
       "      <td>Saturday</td>\n",
       "    </tr>\n",
       "    <tr>\n",
       "      <th>2017-07-01 15:00:00</th>\n",
       "      <td>ETHUSD</td>\n",
       "      <td>268.79</td>\n",
       "      <td>1500282.55</td>\n",
       "      <td>Saturday</td>\n",
       "    </tr>\n",
       "    <tr>\n",
       "      <th>2017-07-01 16:00:00</th>\n",
       "      <td>ETHUSD</td>\n",
       "      <td>265.74</td>\n",
       "      <td>1287300.75</td>\n",
       "      <td>Saturday</td>\n",
       "    </tr>\n",
       "    <tr>\n",
       "      <th>2017-07-01 17:00:00</th>\n",
       "      <td>ETHUSD</td>\n",
       "      <td>272.57</td>\n",
       "      <td>1894983.33</td>\n",
       "      <td>Saturday</td>\n",
       "    </tr>\n",
       "    <tr>\n",
       "      <th>2017-07-01 18:00:00</th>\n",
       "      <td>ETHUSD</td>\n",
       "      <td>268.00</td>\n",
       "      <td>5396852.35</td>\n",
       "      <td>Saturday</td>\n",
       "    </tr>\n",
       "    <tr>\n",
       "      <th>2017-07-01 19:00:00</th>\n",
       "      <td>ETHUSD</td>\n",
       "      <td>263.51</td>\n",
       "      <td>3962669.00</td>\n",
       "      <td>Saturday</td>\n",
       "    </tr>\n",
       "    <tr>\n",
       "      <th>2017-07-01 20:00:00</th>\n",
       "      <td>ETHUSD</td>\n",
       "      <td>259.50</td>\n",
       "      <td>2366698.50</td>\n",
       "      <td>Saturday</td>\n",
       "    </tr>\n",
       "  </tbody>\n",
       "</table>\n",
       "</div>"
      ],
      "text/plain": [
       "                     Symbol  Close     Volume       day\n",
       "Date                                                   \n",
       "2017-07-01 11:00:00  ETHUSD 257.13  679358.87  Saturday\n",
       "2017-07-01 12:00:00  ETHUSD 263.12  824362.87  Saturday\n",
       "2017-07-01 13:00:00  ETHUSD 275.01 3010787.99  Saturday\n",
       "2017-07-01 14:00:00  ETHUSD 274.83 1702536.85  Saturday\n",
       "2017-07-01 15:00:00  ETHUSD 268.79 1500282.55  Saturday\n",
       "2017-07-01 16:00:00  ETHUSD 265.74 1287300.75  Saturday\n",
       "2017-07-01 17:00:00  ETHUSD 272.57 1894983.33  Saturday\n",
       "2017-07-01 18:00:00  ETHUSD 268.00 5396852.35  Saturday\n",
       "2017-07-01 19:00:00  ETHUSD 263.51 3962669.00  Saturday\n",
       "2017-07-01 20:00:00  ETHUSD 259.50 2366698.50  Saturday"
      ]
     },
     "execution_count": 62,
     "metadata": {},
     "output_type": "execute_result"
    }
   ],
   "source": [
    "# choose rows for '2017-07=01' (show only first 10 values)\n",
    "df['2017': '2019'][:10]"
   ]
  },
  {
   "cell_type": "markdown",
   "id": "416af52c-ceae-414b-93ba-a2e0c179a5bb",
   "metadata": {},
   "source": [
    "## Changing the Period\n",
    "\n",
    "- Upsampling - increasing frequency\n",
    "\n",
    "This will result in empty observations which you may choose to fill with .ffill(), .bfill(), or some other method.\n",
    "- Downsampling - reducing frequency"
   ]
  },
  {
   "cell_type": "code",
   "execution_count": 67,
   "id": "092788e4-e164-4c6d-aeed-bb9ac7931bed",
   "metadata": {},
   "outputs": [
    {
     "data": {
      "text/html": [
       "<div>\n",
       "<style scoped>\n",
       "    .dataframe tbody tr th:only-of-type {\n",
       "        vertical-align: middle;\n",
       "    }\n",
       "\n",
       "    .dataframe tbody tr th {\n",
       "        vertical-align: top;\n",
       "    }\n",
       "\n",
       "    .dataframe thead th {\n",
       "        text-align: right;\n",
       "    }\n",
       "</style>\n",
       "<table border=\"1\" class=\"dataframe\">\n",
       "  <thead>\n",
       "    <tr style=\"text-align: right;\">\n",
       "      <th></th>\n",
       "      <th>Symbol</th>\n",
       "      <th>Close</th>\n",
       "      <th>Volume</th>\n",
       "      <th>day</th>\n",
       "    </tr>\n",
       "    <tr>\n",
       "      <th>Date</th>\n",
       "      <th></th>\n",
       "      <th></th>\n",
       "      <th></th>\n",
       "      <th></th>\n",
       "    </tr>\n",
       "  </thead>\n",
       "  <tbody>\n",
       "    <tr>\n",
       "      <th>2017-07-01 11:00:00</th>\n",
       "      <td>ETHUSD</td>\n",
       "      <td>257.13</td>\n",
       "      <td>679358.87</td>\n",
       "      <td>Saturday</td>\n",
       "    </tr>\n",
       "    <tr>\n",
       "      <th>2017-07-01 12:00:00</th>\n",
       "      <td>ETHUSD</td>\n",
       "      <td>263.12</td>\n",
       "      <td>824362.87</td>\n",
       "      <td>Saturday</td>\n",
       "    </tr>\n",
       "    <tr>\n",
       "      <th>2017-07-01 13:00:00</th>\n",
       "      <td>ETHUSD</td>\n",
       "      <td>275.01</td>\n",
       "      <td>3010787.99</td>\n",
       "      <td>Saturday</td>\n",
       "    </tr>\n",
       "    <tr>\n",
       "      <th>2017-07-01 14:00:00</th>\n",
       "      <td>ETHUSD</td>\n",
       "      <td>274.83</td>\n",
       "      <td>1702536.85</td>\n",
       "      <td>Saturday</td>\n",
       "    </tr>\n",
       "    <tr>\n",
       "      <th>2017-07-01 15:00:00</th>\n",
       "      <td>ETHUSD</td>\n",
       "      <td>268.79</td>\n",
       "      <td>1500282.55</td>\n",
       "      <td>Saturday</td>\n",
       "    </tr>\n",
       "  </tbody>\n",
       "</table>\n",
       "</div>"
      ],
      "text/plain": [
       "                     Symbol  Close     Volume       day\n",
       "Date                                                   \n",
       "2017-07-01 11:00:00  ETHUSD 257.13  679358.87  Saturday\n",
       "2017-07-01 12:00:00  ETHUSD 263.12  824362.87  Saturday\n",
       "2017-07-01 13:00:00  ETHUSD 275.01 3010787.99  Saturday\n",
       "2017-07-01 14:00:00  ETHUSD 274.83 1702536.85  Saturday\n",
       "2017-07-01 15:00:00  ETHUSD 268.79 1500282.55  Saturday"
      ]
     },
     "execution_count": 67,
     "metadata": {},
     "output_type": "execute_result"
    }
   ],
   "source": [
    "df.head()"
   ]
  },
  {
   "cell_type": "code",
   "execution_count": 68,
   "id": "5eda187d-f371-48f6-89c5-7c158d2b17f7",
   "metadata": {},
   "outputs": [
    {
     "data": {
      "text/html": [
       "<div>\n",
       "<style scoped>\n",
       "    .dataframe tbody tr th:only-of-type {\n",
       "        vertical-align: middle;\n",
       "    }\n",
       "\n",
       "    .dataframe tbody tr th {\n",
       "        vertical-align: top;\n",
       "    }\n",
       "\n",
       "    .dataframe thead th {\n",
       "        text-align: right;\n",
       "    }\n",
       "</style>\n",
       "<table border=\"1\" class=\"dataframe\">\n",
       "  <thead>\n",
       "    <tr style=\"text-align: right;\">\n",
       "      <th></th>\n",
       "      <th>Symbol</th>\n",
       "      <th>Close</th>\n",
       "      <th>Volume</th>\n",
       "      <th>day</th>\n",
       "    </tr>\n",
       "    <tr>\n",
       "      <th>Date</th>\n",
       "      <th></th>\n",
       "      <th></th>\n",
       "      <th></th>\n",
       "      <th></th>\n",
       "    </tr>\n",
       "  </thead>\n",
       "  <tbody>\n",
       "    <tr>\n",
       "      <th>2017-07-01 11:00:00</th>\n",
       "      <td>ETHUSD</td>\n",
       "      <td>257.13</td>\n",
       "      <td>679358.87</td>\n",
       "      <td>Saturday</td>\n",
       "    </tr>\n",
       "    <tr>\n",
       "      <th>2017-07-01 11:45:00</th>\n",
       "      <td>ETHUSD</td>\n",
       "      <td>257.13</td>\n",
       "      <td>679358.87</td>\n",
       "      <td>Saturday</td>\n",
       "    </tr>\n",
       "    <tr>\n",
       "      <th>2017-07-01 12:30:00</th>\n",
       "      <td>ETHUSD</td>\n",
       "      <td>263.12</td>\n",
       "      <td>824362.87</td>\n",
       "      <td>Saturday</td>\n",
       "    </tr>\n",
       "    <tr>\n",
       "      <th>2017-07-01 13:15:00</th>\n",
       "      <td>ETHUSD</td>\n",
       "      <td>275.01</td>\n",
       "      <td>3010787.99</td>\n",
       "      <td>Saturday</td>\n",
       "    </tr>\n",
       "    <tr>\n",
       "      <th>2017-07-01 14:00:00</th>\n",
       "      <td>ETHUSD</td>\n",
       "      <td>274.83</td>\n",
       "      <td>1702536.85</td>\n",
       "      <td>Saturday</td>\n",
       "    </tr>\n",
       "    <tr>\n",
       "      <th>...</th>\n",
       "      <td>...</td>\n",
       "      <td>...</td>\n",
       "      <td>...</td>\n",
       "      <td>...</td>\n",
       "    </tr>\n",
       "    <tr>\n",
       "      <th>2020-03-13 17:00:00</th>\n",
       "      <td>ETHUSD</td>\n",
       "      <td>133.80</td>\n",
       "      <td>2753450.92</td>\n",
       "      <td>Friday</td>\n",
       "    </tr>\n",
       "    <tr>\n",
       "      <th>2020-03-13 17:45:00</th>\n",
       "      <td>ETHUSD</td>\n",
       "      <td>133.80</td>\n",
       "      <td>2753450.92</td>\n",
       "      <td>Friday</td>\n",
       "    </tr>\n",
       "    <tr>\n",
       "      <th>2020-03-13 18:30:00</th>\n",
       "      <td>ETHUSD</td>\n",
       "      <td>128.93</td>\n",
       "      <td>4898735.81</td>\n",
       "      <td>Friday</td>\n",
       "    </tr>\n",
       "    <tr>\n",
       "      <th>2020-03-13 19:15:00</th>\n",
       "      <td>ETHUSD</td>\n",
       "      <td>134.03</td>\n",
       "      <td>7579741.09</td>\n",
       "      <td>Friday</td>\n",
       "    </tr>\n",
       "    <tr>\n",
       "      <th>2020-03-13 20:00:00</th>\n",
       "      <td>ETHUSD</td>\n",
       "      <td>124.85</td>\n",
       "      <td>1940673.93</td>\n",
       "      <td>Friday</td>\n",
       "    </tr>\n",
       "  </tbody>\n",
       "</table>\n",
       "<p>31565 rows × 4 columns</p>\n",
       "</div>"
      ],
      "text/plain": [
       "                     Symbol  Close     Volume       day\n",
       "Date                                                   \n",
       "2017-07-01 11:00:00  ETHUSD 257.13  679358.87  Saturday\n",
       "2017-07-01 11:45:00  ETHUSD 257.13  679358.87  Saturday\n",
       "2017-07-01 12:30:00  ETHUSD 263.12  824362.87  Saturday\n",
       "2017-07-01 13:15:00  ETHUSD 275.01 3010787.99  Saturday\n",
       "2017-07-01 14:00:00  ETHUSD 274.83 1702536.85  Saturday\n",
       "...                     ...    ...        ...       ...\n",
       "2020-03-13 17:00:00  ETHUSD 133.80 2753450.92    Friday\n",
       "2020-03-13 17:45:00  ETHUSD 133.80 2753450.92    Friday\n",
       "2020-03-13 18:30:00  ETHUSD 128.93 4898735.81    Friday\n",
       "2020-03-13 19:15:00  ETHUSD 134.03 7579741.09    Friday\n",
       "2020-03-13 20:00:00  ETHUSD 124.85 1940673.93    Friday\n",
       "\n",
       "[31565 rows x 4 columns]"
      ]
     },
     "execution_count": 68,
     "metadata": {},
     "output_type": "execute_result"
    }
   ],
   "source": [
    "# Upsample using asfreq() method\n",
    "\n",
    "# How can we take care of new NaNs introduced in our data by asfreq method?\n",
    "\n",
    "df.asfreq('45Min', method = 'ffill')"
   ]
  },
  {
   "cell_type": "markdown",
   "id": "0f6e84fe-8f90-4a64-969d-f3089e1a6b49",
   "metadata": {},
   "source": [
    "## Further notes"
   ]
  },
  {
   "cell_type": "markdown",
   "id": "41bc7cff-4f6e-4145-92a5-1a3f5f44c550",
   "metadata": {},
   "source": [
    "- cahnge this to have a datetime index\n",
    "coffee_df['date'] = pd.to_datetime(coffee_df.date)\n",
    "coffee_df.asfreq()\n",
    "\n",
    "coffee_df['weekday'] coffee_df.date.dt.day_name()\n",
    "\n",
    "coffee_df['month'] = coffee_df.date.dt.month\n",
    "\n",
    "coffee_df.head()\n",
    "\n",
    "- Change index to datetime\n",
    "\n",
    "coffee_df.set_index('date').sort_index()\n",
    "\n",
    "coffe_df.asfreq('D')\n",
    "\n",
    "by_day = coffee_df.asfreq('D')\n",
    "\n",
    "by_day.assign(ffill = lambda coffee_df.coffee_consumption.ffill()\n",
    "                bfill = lambda coffe_df.coffee_consumption.bfill())\n",
    "                \n",
    "- filling missing values\n",
    "\n",
    "by_day['month'] = by_day.index.month\n",
    "\n",
    "by_day['weekday'] = by_day.index.day\n",
    "\n",
    "by_day.fillna(0)\n",
    "\n",
    "\n"
   ]
  },
  {
   "cell_type": "markdown",
   "id": "03ef4e56-e60f-448b-9717-910fe1a58aee",
   "metadata": {},
   "source": [
    "## What did we do our dataframe (size?)\n",
    "### Code Description\n",
    "\n",
    "#### D Calendar day\n",
    "#### W Weekly\n",
    "#### M Month end\n",
    "#### Q Quarter end\n",
    "#### A Year end\n",
    "#### H Hours\n",
    "#### T Minutes\n",
    "#### S Seconds\n",
    "#### L Milliseonds\n",
    "#### U Microseconds\n",
    "#### N nanoseconds"
   ]
  },
  {
   "cell_type": "code",
   "execution_count": 69,
   "id": "af9d98b3-5ebe-49a0-a902-4de43bd899ce",
   "metadata": {},
   "outputs": [
    {
     "data": {
      "text/html": [
       "<div>\n",
       "<style scoped>\n",
       "    .dataframe tbody tr th:only-of-type {\n",
       "        vertical-align: middle;\n",
       "    }\n",
       "\n",
       "    .dataframe tbody tr th {\n",
       "        vertical-align: top;\n",
       "    }\n",
       "\n",
       "    .dataframe thead th {\n",
       "        text-align: right;\n",
       "    }\n",
       "</style>\n",
       "<table border=\"1\" class=\"dataframe\">\n",
       "  <thead>\n",
       "    <tr style=\"text-align: right;\">\n",
       "      <th></th>\n",
       "      <th>Symbol</th>\n",
       "      <th>Close</th>\n",
       "      <th>Volume</th>\n",
       "      <th>day</th>\n",
       "    </tr>\n",
       "    <tr>\n",
       "      <th>Date</th>\n",
       "      <th></th>\n",
       "      <th></th>\n",
       "      <th></th>\n",
       "      <th></th>\n",
       "    </tr>\n",
       "  </thead>\n",
       "  <tbody>\n",
       "    <tr>\n",
       "      <th>2017-07-01 11:00:00</th>\n",
       "      <td>ETHUSD</td>\n",
       "      <td>257.13</td>\n",
       "      <td>679358.87</td>\n",
       "      <td>Saturday</td>\n",
       "    </tr>\n",
       "    <tr>\n",
       "      <th>2017-07-01 12:00:00</th>\n",
       "      <td>ETHUSD</td>\n",
       "      <td>263.12</td>\n",
       "      <td>824362.87</td>\n",
       "      <td>Saturday</td>\n",
       "    </tr>\n",
       "    <tr>\n",
       "      <th>2017-07-01 13:00:00</th>\n",
       "      <td>ETHUSD</td>\n",
       "      <td>275.01</td>\n",
       "      <td>3010787.99</td>\n",
       "      <td>Saturday</td>\n",
       "    </tr>\n",
       "    <tr>\n",
       "      <th>2017-07-01 14:00:00</th>\n",
       "      <td>ETHUSD</td>\n",
       "      <td>274.83</td>\n",
       "      <td>1702536.85</td>\n",
       "      <td>Saturday</td>\n",
       "    </tr>\n",
       "    <tr>\n",
       "      <th>2017-07-01 15:00:00</th>\n",
       "      <td>ETHUSD</td>\n",
       "      <td>268.79</td>\n",
       "      <td>1500282.55</td>\n",
       "      <td>Saturday</td>\n",
       "    </tr>\n",
       "  </tbody>\n",
       "</table>\n",
       "</div>"
      ],
      "text/plain": [
       "                     Symbol  Close     Volume       day\n",
       "Date                                                   \n",
       "2017-07-01 11:00:00  ETHUSD 257.13  679358.87  Saturday\n",
       "2017-07-01 12:00:00  ETHUSD 263.12  824362.87  Saturday\n",
       "2017-07-01 13:00:00  ETHUSD 275.01 3010787.99  Saturday\n",
       "2017-07-01 14:00:00  ETHUSD 274.83 1702536.85  Saturday\n",
       "2017-07-01 15:00:00  ETHUSD 268.79 1500282.55  Saturday"
      ]
     },
     "execution_count": 69,
     "metadata": {},
     "output_type": "execute_result"
    }
   ],
   "source": [
    "# Back to the therium dataset\n",
    "\n",
    "df.head()"
   ]
  },
  {
   "cell_type": "code",
   "execution_count": 71,
   "id": "63af170a-1ea5-4abb-a6af-8a7187950092",
   "metadata": {},
   "outputs": [
    {
     "name": "stdout",
     "output_type": "stream",
     "text": [
      "<class 'pandas.core.frame.DataFrame'>\n",
      "RangeIndex: 23674 entries, 0 to 23673\n",
      "Data columns (total 5 columns):\n",
      " #   Column  Non-Null Count  Dtype         \n",
      "---  ------  --------------  -----         \n",
      " 0   Date    23674 non-null  datetime64[ns]\n",
      " 1   Symbol  23674 non-null  object        \n",
      " 2   Close   23674 non-null  float64       \n",
      " 3   Volume  23674 non-null  float64       \n",
      " 4   day     23674 non-null  object        \n",
      "dtypes: datetime64[ns](1), float64(2), object(2)\n",
      "memory usage: 924.9+ KB\n"
     ]
    }
   ],
   "source": [
    "df.reset_index().info()"
   ]
  },
  {
   "cell_type": "code",
   "execution_count": 73,
   "id": "1a19a7da-d2ab-4209-abc8-d3908b16eb52",
   "metadata": {},
   "outputs": [
    {
     "data": {
      "text/html": [
       "<div>\n",
       "<style scoped>\n",
       "    .dataframe tbody tr th:only-of-type {\n",
       "        vertical-align: middle;\n",
       "    }\n",
       "\n",
       "    .dataframe tbody tr th {\n",
       "        vertical-align: top;\n",
       "    }\n",
       "\n",
       "    .dataframe thead th {\n",
       "        text-align: right;\n",
       "    }\n",
       "</style>\n",
       "<table border=\"1\" class=\"dataframe\">\n",
       "  <thead>\n",
       "    <tr style=\"text-align: right;\">\n",
       "      <th></th>\n",
       "      <th>Symbol</th>\n",
       "      <th>Close</th>\n",
       "      <th>Volume</th>\n",
       "      <th>day</th>\n",
       "    </tr>\n",
       "    <tr>\n",
       "      <th>Date</th>\n",
       "      <th></th>\n",
       "      <th></th>\n",
       "      <th></th>\n",
       "      <th></th>\n",
       "    </tr>\n",
       "  </thead>\n",
       "  <tbody>\n",
       "    <tr>\n",
       "      <th>2017-07-01 11:00:00</th>\n",
       "      <td>ETHUSD</td>\n",
       "      <td>257.13</td>\n",
       "      <td>679358.87</td>\n",
       "      <td>Saturday</td>\n",
       "    </tr>\n",
       "    <tr>\n",
       "      <th>2017-07-01 12:00:00</th>\n",
       "      <td>ETHUSD</td>\n",
       "      <td>263.12</td>\n",
       "      <td>824362.87</td>\n",
       "      <td>Saturday</td>\n",
       "    </tr>\n",
       "    <tr>\n",
       "      <th>2017-07-01 13:00:00</th>\n",
       "      <td>ETHUSD</td>\n",
       "      <td>275.01</td>\n",
       "      <td>3010787.99</td>\n",
       "      <td>Saturday</td>\n",
       "    </tr>\n",
       "    <tr>\n",
       "      <th>2017-07-01 14:00:00</th>\n",
       "      <td>ETHUSD</td>\n",
       "      <td>274.83</td>\n",
       "      <td>1702536.85</td>\n",
       "      <td>Saturday</td>\n",
       "    </tr>\n",
       "    <tr>\n",
       "      <th>2017-07-01 15:00:00</th>\n",
       "      <td>ETHUSD</td>\n",
       "      <td>268.79</td>\n",
       "      <td>1500282.55</td>\n",
       "      <td>Saturday</td>\n",
       "    </tr>\n",
       "  </tbody>\n",
       "</table>\n",
       "</div>"
      ],
      "text/plain": [
       "                     Symbol  Close     Volume       day\n",
       "Date                                                   \n",
       "2017-07-01 11:00:00  ETHUSD 257.13  679358.87  Saturday\n",
       "2017-07-01 12:00:00  ETHUSD 263.12  824362.87  Saturday\n",
       "2017-07-01 13:00:00  ETHUSD 275.01 3010787.99  Saturday\n",
       "2017-07-01 14:00:00  ETHUSD 274.83 1702536.85  Saturday\n",
       "2017-07-01 15:00:00  ETHUSD 268.79 1500282.55  Saturday"
      ]
     },
     "execution_count": 73,
     "metadata": {},
     "output_type": "execute_result"
    }
   ],
   "source": [
    "df.head()"
   ]
  },
  {
   "cell_type": "code",
   "execution_count": 78,
   "id": "03d07f5d-de25-4863-99f5-111130871093",
   "metadata": {},
   "outputs": [
    {
     "data": {
      "text/html": [
       "<div>\n",
       "<style scoped>\n",
       "    .dataframe tbody tr th:only-of-type {\n",
       "        vertical-align: middle;\n",
       "    }\n",
       "\n",
       "    .dataframe tbody tr th {\n",
       "        vertical-align: top;\n",
       "    }\n",
       "\n",
       "    .dataframe thead th {\n",
       "        text-align: right;\n",
       "    }\n",
       "</style>\n",
       "<table border=\"1\" class=\"dataframe\">\n",
       "  <thead>\n",
       "    <tr style=\"text-align: right;\">\n",
       "      <th></th>\n",
       "      <th>Close</th>\n",
       "      <th>Volume</th>\n",
       "    </tr>\n",
       "    <tr>\n",
       "      <th>Date</th>\n",
       "      <th></th>\n",
       "      <th></th>\n",
       "    </tr>\n",
       "  </thead>\n",
       "  <tbody>\n",
       "    <tr>\n",
       "      <th>2017-12-31</th>\n",
       "      <td>351.97</td>\n",
       "      <td>2948844.73</td>\n",
       "    </tr>\n",
       "    <tr>\n",
       "      <th>2018-12-31</th>\n",
       "      <td>480.93</td>\n",
       "      <td>2733347.11</td>\n",
       "    </tr>\n",
       "    <tr>\n",
       "      <th>2019-12-31</th>\n",
       "      <td>180.75</td>\n",
       "      <td>936000.88</td>\n",
       "    </tr>\n",
       "    <tr>\n",
       "      <th>2020-12-31</th>\n",
       "      <td>197.57</td>\n",
       "      <td>1415723.35</td>\n",
       "    </tr>\n",
       "  </tbody>\n",
       "</table>\n",
       "</div>"
      ],
      "text/plain": [
       "            Close     Volume\n",
       "Date                        \n",
       "2017-12-31 351.97 2948844.73\n",
       "2018-12-31 480.93 2733347.11\n",
       "2019-12-31 180.75  936000.88\n",
       "2020-12-31 197.57 1415723.35"
      ]
     },
     "execution_count": 78,
     "metadata": {},
     "output_type": "execute_result"
    }
   ],
   "source": [
    "# resampling is allowing us to aggregate on a biggervalue of date than our\n",
    "# base level of granularity\n",
    "# think of it as a groupby but for time\n",
    "# mean value where appropriate\n",
    "\n",
    "df.resample('Y').mean()"
   ]
  },
  {
   "cell_type": "code",
   "execution_count": 75,
   "id": "293f7762-9285-48a6-bab8-25a9e6473738",
   "metadata": {},
   "outputs": [
    {
     "data": {
      "text/plain": [
       "ETHUSD    23674\n",
       "Name: Symbol, dtype: int64"
      ]
     },
     "execution_count": 75,
     "metadata": {},
     "output_type": "execute_result"
    }
   ],
   "source": [
    "df.Symbol.value_counts()"
   ]
  },
  {
   "cell_type": "code",
   "execution_count": 80,
   "id": "e6174c1b-add5-489c-872b-130f70b8d8fb",
   "metadata": {},
   "outputs": [
    {
     "data": {
      "text/html": [
       "<div>\n",
       "<style scoped>\n",
       "    .dataframe tbody tr th:only-of-type {\n",
       "        vertical-align: middle;\n",
       "    }\n",
       "\n",
       "    .dataframe tbody tr th {\n",
       "        vertical-align: top;\n",
       "    }\n",
       "\n",
       "    .dataframe thead th {\n",
       "        text-align: right;\n",
       "    }\n",
       "</style>\n",
       "<table border=\"1\" class=\"dataframe\">\n",
       "  <thead>\n",
       "    <tr style=\"text-align: right;\">\n",
       "      <th></th>\n",
       "      <th>Close</th>\n",
       "      <th>Volume</th>\n",
       "    </tr>\n",
       "    <tr>\n",
       "      <th>Date</th>\n",
       "      <th></th>\n",
       "      <th></th>\n",
       "    </tr>\n",
       "  </thead>\n",
       "  <tbody>\n",
       "    <tr>\n",
       "      <th>2017-07-31</th>\n",
       "      <td>220.01</td>\n",
       "      <td>2480603.27</td>\n",
       "    </tr>\n",
       "    <tr>\n",
       "      <th>2017-08-31</th>\n",
       "      <td>298.51</td>\n",
       "      <td>2056355.72</td>\n",
       "    </tr>\n",
       "    <tr>\n",
       "      <th>2017-09-30</th>\n",
       "      <td>298.52</td>\n",
       "      <td>2331871.43</td>\n",
       "    </tr>\n",
       "    <tr>\n",
       "      <th>2017-10-31</th>\n",
       "      <td>305.65</td>\n",
       "      <td>1096152.84</td>\n",
       "    </tr>\n",
       "    <tr>\n",
       "      <th>2017-11-30</th>\n",
       "      <td>355.65</td>\n",
       "      <td>2741743.75</td>\n",
       "    </tr>\n",
       "  </tbody>\n",
       "</table>\n",
       "</div>"
      ],
      "text/plain": [
       "            Close     Volume\n",
       "Date                        \n",
       "2017-07-31 220.01 2480603.27\n",
       "2017-08-31 298.51 2056355.72\n",
       "2017-09-30 298.52 2331871.43\n",
       "2017-10-31 305.65 1096152.84\n",
       "2017-11-30 355.65 2741743.75"
      ]
     },
     "execution_count": 80,
     "metadata": {},
     "output_type": "execute_result"
    }
   ],
   "source": [
    "df.resample('M').mean().head()"
   ]
  },
  {
   "cell_type": "code",
   "execution_count": 81,
   "id": "3f905d98-879b-4f9f-9b9e-d77cfc803d01",
   "metadata": {},
   "outputs": [
    {
     "data": {
      "text/plain": [
       "<AxesSubplot:xlabel='Date'>"
      ]
     },
     "execution_count": 81,
     "metadata": {},
     "output_type": "execute_result"
    },
    {
     "data": {
      "image/png": "[encoded data removed]",
      "text/plain": [
       "<Figure size 576x432 with 1 Axes>"
      ]
     },
     "metadata": {},
     "output_type": "display_data"
    }
   ],
   "source": [
    "# plot raw data with month resampled data\n",
    "\n",
    "df.Close.plot(label = 'Original Granularity')"
   ]
  },
  {
   "cell_type": "code",
   "execution_count": 85,
   "id": "74ce2669-1050-440d-a7f7-0505ba35274f",
   "metadata": {},
   "outputs": [
    {
     "data": {
      "text/plain": [
       "<AxesSubplot:xlabel='Date'>"
      ]
     },
     "execution_count": 85,
     "metadata": {},
     "output_type": "execute_result"
    },
    {
     "data": {
      "image/png": "[encoded data removed]",
      "text/plain": [
       "<Figure size 576x432 with 1 Axes>"
      ]
     },
     "metadata": {},
     "output_type": "display_data"
    }
   ],
   "source": [
    "df.Close.plot(label = 'Original Granularity')\n",
    "df.resample('M').mean().Close.plot(label = 'Monthly resample')\n",
    "df.resample('Y').mean().Close.plot(label = 'Yearly resample')"
   ]
  },
  {
   "cell_type": "markdown",
   "id": "1b08fd50-c5ae-47c8-858e-94bae7eca11f",
   "metadata": {},
   "source": [
    "## Resampling\n",
    "\n",
    "- Fundamentally data aggregation (similar to groupby but for dates)\n",
    "    - as opposed to afreq which is more of a 'data selection'\n",
    "- Only works on dataframes with a datetime index\n",
    "In [51]:\n"
   ]
  },
  {
   "cell_type": "code",
   "execution_count": 86,
   "id": "8a421c67-5b75-40eb-a172-b2acaa330771",
   "metadata": {},
   "outputs": [
    {
     "data": {
      "text/html": [
       "<div>\n",
       "<style scoped>\n",
       "    .dataframe tbody tr th:only-of-type {\n",
       "        vertical-align: middle;\n",
       "    }\n",
       "\n",
       "    .dataframe tbody tr th {\n",
       "        vertical-align: top;\n",
       "    }\n",
       "\n",
       "    .dataframe thead th {\n",
       "        text-align: right;\n",
       "    }\n",
       "</style>\n",
       "<table border=\"1\" class=\"dataframe\">\n",
       "  <thead>\n",
       "    <tr style=\"text-align: right;\">\n",
       "      <th></th>\n",
       "      <th>Symbol</th>\n",
       "      <th>Close</th>\n",
       "      <th>Volume</th>\n",
       "      <th>day</th>\n",
       "    </tr>\n",
       "    <tr>\n",
       "      <th>Date</th>\n",
       "      <th></th>\n",
       "      <th></th>\n",
       "      <th></th>\n",
       "      <th></th>\n",
       "    </tr>\n",
       "  </thead>\n",
       "  <tbody>\n",
       "    <tr>\n",
       "      <th>2017-07-01 11:00:00</th>\n",
       "      <td>ETHUSD</td>\n",
       "      <td>257.13</td>\n",
       "      <td>679358.87</td>\n",
       "      <td>Saturday</td>\n",
       "    </tr>\n",
       "    <tr>\n",
       "      <th>2017-07-01 12:00:00</th>\n",
       "      <td>ETHUSD</td>\n",
       "      <td>263.12</td>\n",
       "      <td>824362.87</td>\n",
       "      <td>Saturday</td>\n",
       "    </tr>\n",
       "    <tr>\n",
       "      <th>2017-07-01 13:00:00</th>\n",
       "      <td>ETHUSD</td>\n",
       "      <td>275.01</td>\n",
       "      <td>3010787.99</td>\n",
       "      <td>Saturday</td>\n",
       "    </tr>\n",
       "    <tr>\n",
       "      <th>2017-07-01 14:00:00</th>\n",
       "      <td>ETHUSD</td>\n",
       "      <td>274.83</td>\n",
       "      <td>1702536.85</td>\n",
       "      <td>Saturday</td>\n",
       "    </tr>\n",
       "    <tr>\n",
       "      <th>2017-07-01 15:00:00</th>\n",
       "      <td>ETHUSD</td>\n",
       "      <td>268.79</td>\n",
       "      <td>1500282.55</td>\n",
       "      <td>Saturday</td>\n",
       "    </tr>\n",
       "  </tbody>\n",
       "</table>\n",
       "</div>"
      ],
      "text/plain": [
       "                     Symbol  Close     Volume       day\n",
       "Date                                                   \n",
       "2017-07-01 11:00:00  ETHUSD 257.13  679358.87  Saturday\n",
       "2017-07-01 12:00:00  ETHUSD 263.12  824362.87  Saturday\n",
       "2017-07-01 13:00:00  ETHUSD 275.01 3010787.99  Saturday\n",
       "2017-07-01 14:00:00  ETHUSD 274.83 1702536.85  Saturday\n",
       "2017-07-01 15:00:00  ETHUSD 268.79 1500282.55  Saturday"
      ]
     },
     "execution_count": 86,
     "metadata": {},
     "output_type": "execute_result"
    }
   ],
   "source": [
    "df.head()\n"
   ]
  },
  {
   "cell_type": "code",
   "execution_count": 88,
   "id": "301709d6-3b0a-4f1c-b739-65fdfb8ba8dd",
   "metadata": {},
   "outputs": [
    {
     "data": {
      "text/html": [
       "<div>\n",
       "<style scoped>\n",
       "    .dataframe tbody tr th:only-of-type {\n",
       "        vertical-align: middle;\n",
       "    }\n",
       "\n",
       "    .dataframe tbody tr th {\n",
       "        vertical-align: top;\n",
       "    }\n",
       "\n",
       "    .dataframe thead th {\n",
       "        text-align: right;\n",
       "    }\n",
       "</style>\n",
       "<table border=\"1\" class=\"dataframe\">\n",
       "  <thead>\n",
       "    <tr style=\"text-align: right;\">\n",
       "      <th></th>\n",
       "      <th>Close</th>\n",
       "      <th>Volume</th>\n",
       "    </tr>\n",
       "    <tr>\n",
       "      <th>Date</th>\n",
       "      <th></th>\n",
       "      <th></th>\n",
       "    </tr>\n",
       "  </thead>\n",
       "  <tbody>\n",
       "    <tr>\n",
       "      <th>2017-07-01 11:00:00</th>\n",
       "      <td>NaN</td>\n",
       "      <td>NaN</td>\n",
       "    </tr>\n",
       "    <tr>\n",
       "      <th>2017-07-01 12:00:00</th>\n",
       "      <td>NaN</td>\n",
       "      <td>NaN</td>\n",
       "    </tr>\n",
       "    <tr>\n",
       "      <th>2017-07-01 13:00:00</th>\n",
       "      <td>NaN</td>\n",
       "      <td>NaN</td>\n",
       "    </tr>\n",
       "    <tr>\n",
       "      <th>2017-07-01 14:00:00</th>\n",
       "      <td>267.52</td>\n",
       "      <td>1554261.65</td>\n",
       "    </tr>\n",
       "    <tr>\n",
       "      <th>2017-07-01 15:00:00</th>\n",
       "      <td>270.44</td>\n",
       "      <td>1759492.57</td>\n",
       "    </tr>\n",
       "    <tr>\n",
       "      <th>...</th>\n",
       "      <td>...</td>\n",
       "      <td>...</td>\n",
       "    </tr>\n",
       "    <tr>\n",
       "      <th>2020-03-13 16:00:00</th>\n",
       "      <td>118.56</td>\n",
       "      <td>6289262.63</td>\n",
       "    </tr>\n",
       "    <tr>\n",
       "      <th>2020-03-13 17:00:00</th>\n",
       "      <td>127.29</td>\n",
       "      <td>4581942.13</td>\n",
       "    </tr>\n",
       "    <tr>\n",
       "      <th>2020-03-13 18:00:00</th>\n",
       "      <td>126.79</td>\n",
       "      <td>4873146.86</td>\n",
       "    </tr>\n",
       "    <tr>\n",
       "      <th>2020-03-13 19:00:00</th>\n",
       "      <td>131.08</td>\n",
       "      <td>4923338.13</td>\n",
       "    </tr>\n",
       "    <tr>\n",
       "      <th>2020-03-13 20:00:00</th>\n",
       "      <td>130.40</td>\n",
       "      <td>4293150.44</td>\n",
       "    </tr>\n",
       "  </tbody>\n",
       "</table>\n",
       "<p>23674 rows × 2 columns</p>\n",
       "</div>"
      ],
      "text/plain": [
       "                     Close     Volume\n",
       "Date                                 \n",
       "2017-07-01 11:00:00    NaN        NaN\n",
       "2017-07-01 12:00:00    NaN        NaN\n",
       "2017-07-01 13:00:00    NaN        NaN\n",
       "2017-07-01 14:00:00 267.52 1554261.65\n",
       "2017-07-01 15:00:00 270.44 1759492.57\n",
       "...                    ...        ...\n",
       "2020-03-13 16:00:00 118.56 6289262.63\n",
       "2020-03-13 17:00:00 127.29 4581942.13\n",
       "2020-03-13 18:00:00 126.79 4873146.86\n",
       "2020-03-13 19:00:00 131.08 4923338.13\n",
       "2020-03-13 20:00:00 130.40 4293150.44\n",
       "\n",
       "[23674 rows x 2 columns]"
      ]
     },
     "execution_count": 88,
     "metadata": {},
     "output_type": "execute_result"
    }
   ],
   "source": [
    "# first 3 rows will be skipped because the 4th average only comes on the 4th row\n",
    "\n",
    "df.rolling(4).mean()"
   ]
  },
  {
   "cell_type": "code",
   "execution_count": 89,
   "id": "93f75c60-7cba-44f4-b02d-c81f26f525f7",
   "metadata": {},
   "outputs": [
    {
     "data": {
      "text/plain": [
       "Date\n",
       "2017-07-02      NaN\n",
       "2017-07-09      NaN\n",
       "2017-07-16      NaN\n",
       "2017-07-23   234.44\n",
       "2017-07-30   218.21\n",
       "              ...  \n",
       "2020-02-16   201.10\n",
       "2020-02-23   226.48\n",
       "2020-03-01   241.13\n",
       "2020-03-08   246.68\n",
       "2020-03-15   226.96\n",
       "Freq: W-SUN, Name: Close, Length: 142, dtype: float64"
      ]
     },
     "execution_count": 89,
     "metadata": {},
     "output_type": "execute_result"
    }
   ],
   "source": [
    "# Resampling and rolling average together\n",
    "\n",
    "df.resample('W').mean().Close.rolling(4).mean()"
   ]
  },
  {
   "cell_type": "code",
   "execution_count": 90,
   "id": "76bd3f15-a980-4fa2-bc89-c8e74e009379",
   "metadata": {},
   "outputs": [
    {
     "data": {
      "text/plain": [
       "Date\n",
       "2017-07-02      NaN\n",
       "2017-07-09      NaN\n",
       "2017-07-16      NaN\n",
       "2017-07-23      NaN\n",
       "2017-07-30      NaN\n",
       "              ...  \n",
       "2020-02-16   172.29\n",
       "2020-02-23   175.10\n",
       "2020-03-01   177.40\n",
       "2020-03-08   179.47\n",
       "2020-03-15   179.28\n",
       "Freq: W-SUN, Name: Close, Length: 142, dtype: float64"
      ]
     },
     "execution_count": 90,
     "metadata": {},
     "output_type": "execute_result"
    }
   ],
   "source": [
    "# Resampling and rolling average together (26 weeks rolling average)\n",
    "\n",
    "df.resample('W').mean().Close.rolling(26).mean()"
   ]
  },
  {
   "cell_type": "code",
   "execution_count": 91,
   "id": "32d962d1-0f89-49d4-b095-43a4eb68a975",
   "metadata": {},
   "outputs": [
    {
     "data": {
      "text/plain": [
       "<matplotlib.legend.Legend at 0x7fd112e79df0>"
      ]
     },
     "execution_count": 91,
     "metadata": {},
     "output_type": "execute_result"
    },
    {
     "data": {
      "image/png": "[encoded data removed]",
      "text/plain": [
       "<Figure size 576x432 with 1 Axes>"
      ]
     },
     "metadata": {},
     "output_type": "display_data"
    }
   ],
   "source": [
    "# %matplotlib notebook\n",
    "\n",
    "\n",
    "df.Close.plot(label = 'raw data')\n",
    "df.resample('W').mean().Close.rolling(2).mean().plot(label = '2W rolling')\n",
    "df.resample('W').mean().Close.rolling(8).mean().plot(label = '8W rolling')\n",
    "df.resample('W').mean().Close.rolling(26).mean().plot(label = '26W rolling')\n",
    "plt.legend()"
   ]
  },
  {
   "cell_type": "markdown",
   "id": "29939877-c884-49f4-adf3-124bfa020048",
   "metadata": {},
   "source": [
    "### What other rolling averages can we use?\n",
    "# Lagging and Lead\n",
    "\n",
    "- Shift: move the data backwards and forwards by a given amount\n",
    "- diff: find the difference with the previous observation (or a specified further back observation)\n",
    "- Can be used to computing differences over time"
   ]
  },
  {
   "cell_type": "code",
   "execution_count": 92,
   "id": "b977b226-a2cb-442e-be86-8d998b7f0b9b",
   "metadata": {},
   "outputs": [
    {
     "data": {
      "text/html": [
       "<div>\n",
       "<style scoped>\n",
       "    .dataframe tbody tr th:only-of-type {\n",
       "        vertical-align: middle;\n",
       "    }\n",
       "\n",
       "    .dataframe tbody tr th {\n",
       "        vertical-align: top;\n",
       "    }\n",
       "\n",
       "    .dataframe thead th {\n",
       "        text-align: right;\n",
       "    }\n",
       "</style>\n",
       "<table border=\"1\" class=\"dataframe\">\n",
       "  <thead>\n",
       "    <tr style=\"text-align: right;\">\n",
       "      <th></th>\n",
       "      <th>Close</th>\n",
       "      <th>Volume</th>\n",
       "    </tr>\n",
       "    <tr>\n",
       "      <th>Date</th>\n",
       "      <th></th>\n",
       "      <th></th>\n",
       "    </tr>\n",
       "  </thead>\n",
       "  <tbody>\n",
       "    <tr>\n",
       "      <th>2017-07-01</th>\n",
       "      <td>265.28</td>\n",
       "      <td>2198771.14</td>\n",
       "    </tr>\n",
       "    <tr>\n",
       "      <th>2017-07-02</th>\n",
       "      <td>269.78</td>\n",
       "      <td>2177595.32</td>\n",
       "    </tr>\n",
       "    <tr>\n",
       "      <th>2017-07-03</th>\n",
       "      <td>278.88</td>\n",
       "      <td>1459014.73</td>\n",
       "    </tr>\n",
       "    <tr>\n",
       "      <th>2017-07-04</th>\n",
       "      <td>276.74</td>\n",
       "      <td>1254579.39</td>\n",
       "    </tr>\n",
       "    <tr>\n",
       "      <th>2017-07-05</th>\n",
       "      <td>265.03</td>\n",
       "      <td>1797923.44</td>\n",
       "    </tr>\n",
       "    <tr>\n",
       "      <th>2017-07-06</th>\n",
       "      <td>266.48</td>\n",
       "      <td>962700.63</td>\n",
       "    </tr>\n",
       "    <tr>\n",
       "      <th>2017-07-07</th>\n",
       "      <td>253.94</td>\n",
       "      <td>1801485.06</td>\n",
       "    </tr>\n",
       "    <tr>\n",
       "      <th>2017-07-08</th>\n",
       "      <td>241.55</td>\n",
       "      <td>1356294.00</td>\n",
       "    </tr>\n",
       "    <tr>\n",
       "      <th>2017-07-09</th>\n",
       "      <td>244.81</td>\n",
       "      <td>729444.92</td>\n",
       "    </tr>\n",
       "    <tr>\n",
       "      <th>2017-07-10</th>\n",
       "      <td>225.42</td>\n",
       "      <td>3483141.83</td>\n",
       "    </tr>\n",
       "  </tbody>\n",
       "</table>\n",
       "</div>"
      ],
      "text/plain": [
       "            Close     Volume\n",
       "Date                        \n",
       "2017-07-01 265.28 2198771.14\n",
       "2017-07-02 269.78 2177595.32\n",
       "2017-07-03 278.88 1459014.73\n",
       "2017-07-04 276.74 1254579.39\n",
       "2017-07-05 265.03 1797923.44\n",
       "2017-07-06 266.48  962700.63\n",
       "2017-07-07 253.94 1801485.06\n",
       "2017-07-08 241.55 1356294.00\n",
       "2017-07-09 244.81  729444.92\n",
       "2017-07-10 225.42 3483141.83"
      ]
     },
     "execution_count": 92,
     "metadata": {},
     "output_type": "execute_result"
    }
   ],
   "source": [
    "df_daily = df.resample('D').mean()\n",
    "df_daily.head(10)"
   ]
  },
  {
   "cell_type": "code",
   "execution_count": 93,
   "id": "03c53cbb-31b3-4701-832b-786ebedb7898",
   "metadata": {},
   "outputs": [
    {
     "data": {
      "text/html": [
       "<div>\n",
       "<style scoped>\n",
       "    .dataframe tbody tr th:only-of-type {\n",
       "        vertical-align: middle;\n",
       "    }\n",
       "\n",
       "    .dataframe tbody tr th {\n",
       "        vertical-align: top;\n",
       "    }\n",
       "\n",
       "    .dataframe thead th {\n",
       "        text-align: right;\n",
       "    }\n",
       "</style>\n",
       "<table border=\"1\" class=\"dataframe\">\n",
       "  <thead>\n",
       "    <tr style=\"text-align: right;\">\n",
       "      <th></th>\n",
       "      <th>Close</th>\n",
       "      <th>Volume</th>\n",
       "      <th>shift(1)</th>\n",
       "    </tr>\n",
       "    <tr>\n",
       "      <th>Date</th>\n",
       "      <th></th>\n",
       "      <th></th>\n",
       "      <th></th>\n",
       "    </tr>\n",
       "  </thead>\n",
       "  <tbody>\n",
       "    <tr>\n",
       "      <th>2017-07-01</th>\n",
       "      <td>265.28</td>\n",
       "      <td>2198771.14</td>\n",
       "      <td>NaN</td>\n",
       "    </tr>\n",
       "    <tr>\n",
       "      <th>2017-07-02</th>\n",
       "      <td>269.78</td>\n",
       "      <td>2177595.32</td>\n",
       "      <td>265.28</td>\n",
       "    </tr>\n",
       "    <tr>\n",
       "      <th>2017-07-03</th>\n",
       "      <td>278.88</td>\n",
       "      <td>1459014.73</td>\n",
       "      <td>269.78</td>\n",
       "    </tr>\n",
       "    <tr>\n",
       "      <th>2017-07-04</th>\n",
       "      <td>276.74</td>\n",
       "      <td>1254579.39</td>\n",
       "      <td>278.88</td>\n",
       "    </tr>\n",
       "    <tr>\n",
       "      <th>2017-07-05</th>\n",
       "      <td>265.03</td>\n",
       "      <td>1797923.44</td>\n",
       "      <td>276.74</td>\n",
       "    </tr>\n",
       "    <tr>\n",
       "      <th>2017-07-06</th>\n",
       "      <td>266.48</td>\n",
       "      <td>962700.63</td>\n",
       "      <td>265.03</td>\n",
       "    </tr>\n",
       "    <tr>\n",
       "      <th>2017-07-07</th>\n",
       "      <td>253.94</td>\n",
       "      <td>1801485.06</td>\n",
       "      <td>266.48</td>\n",
       "    </tr>\n",
       "    <tr>\n",
       "      <th>2017-07-08</th>\n",
       "      <td>241.55</td>\n",
       "      <td>1356294.00</td>\n",
       "      <td>253.94</td>\n",
       "    </tr>\n",
       "    <tr>\n",
       "      <th>2017-07-09</th>\n",
       "      <td>244.81</td>\n",
       "      <td>729444.92</td>\n",
       "      <td>241.55</td>\n",
       "    </tr>\n",
       "    <tr>\n",
       "      <th>2017-07-10</th>\n",
       "      <td>225.42</td>\n",
       "      <td>3483141.83</td>\n",
       "      <td>244.81</td>\n",
       "    </tr>\n",
       "  </tbody>\n",
       "</table>\n",
       "</div>"
      ],
      "text/plain": [
       "            Close     Volume  shift(1)\n",
       "Date                                  \n",
       "2017-07-01 265.28 2198771.14       NaN\n",
       "2017-07-02 269.78 2177595.32    265.28\n",
       "2017-07-03 278.88 1459014.73    269.78\n",
       "2017-07-04 276.74 1254579.39    278.88\n",
       "2017-07-05 265.03 1797923.44    276.74\n",
       "2017-07-06 266.48  962700.63    265.03\n",
       "2017-07-07 253.94 1801485.06    266.48\n",
       "2017-07-08 241.55 1356294.00    253.94\n",
       "2017-07-09 244.81  729444.92    241.55\n",
       "2017-07-10 225.42 3483141.83    244.81"
      ]
     },
     "execution_count": 93,
     "metadata": {},
     "output_type": "execute_result"
    }
   ],
   "source": [
    "# Use 'shift' to move the timeseries into the future\n",
    "\n",
    "df_daily['shift(1)'] = df_daily.Close.shift(1)\n",
    "df_daily.head(10)"
   ]
  },
  {
   "cell_type": "code",
   "execution_count": 94,
   "id": "bb313894-8c7f-4803-be4e-562a1a5d5d3e",
   "metadata": {},
   "outputs": [
    {
     "data": {
      "text/html": [
       "<div>\n",
       "<style scoped>\n",
       "    .dataframe tbody tr th:only-of-type {\n",
       "        vertical-align: middle;\n",
       "    }\n",
       "\n",
       "    .dataframe tbody tr th {\n",
       "        vertical-align: top;\n",
       "    }\n",
       "\n",
       "    .dataframe thead th {\n",
       "        text-align: right;\n",
       "    }\n",
       "</style>\n",
       "<table border=\"1\" class=\"dataframe\">\n",
       "  <thead>\n",
       "    <tr style=\"text-align: right;\">\n",
       "      <th></th>\n",
       "      <th>Close</th>\n",
       "      <th>Volume</th>\n",
       "      <th>shift(1)</th>\n",
       "      <th>diff(1)</th>\n",
       "    </tr>\n",
       "    <tr>\n",
       "      <th>Date</th>\n",
       "      <th></th>\n",
       "      <th></th>\n",
       "      <th></th>\n",
       "      <th></th>\n",
       "    </tr>\n",
       "  </thead>\n",
       "  <tbody>\n",
       "    <tr>\n",
       "      <th>2017-07-01</th>\n",
       "      <td>265.28</td>\n",
       "      <td>2198771.14</td>\n",
       "      <td>NaN</td>\n",
       "      <td>NaN</td>\n",
       "    </tr>\n",
       "    <tr>\n",
       "      <th>2017-07-02</th>\n",
       "      <td>269.78</td>\n",
       "      <td>2177595.32</td>\n",
       "      <td>265.28</td>\n",
       "      <td>4.50</td>\n",
       "    </tr>\n",
       "    <tr>\n",
       "      <th>2017-07-03</th>\n",
       "      <td>278.88</td>\n",
       "      <td>1459014.73</td>\n",
       "      <td>269.78</td>\n",
       "      <td>9.10</td>\n",
       "    </tr>\n",
       "    <tr>\n",
       "      <th>2017-07-04</th>\n",
       "      <td>276.74</td>\n",
       "      <td>1254579.39</td>\n",
       "      <td>278.88</td>\n",
       "      <td>-2.14</td>\n",
       "    </tr>\n",
       "    <tr>\n",
       "      <th>2017-07-05</th>\n",
       "      <td>265.03</td>\n",
       "      <td>1797923.44</td>\n",
       "      <td>276.74</td>\n",
       "      <td>-11.72</td>\n",
       "    </tr>\n",
       "    <tr>\n",
       "      <th>2017-07-06</th>\n",
       "      <td>266.48</td>\n",
       "      <td>962700.63</td>\n",
       "      <td>265.03</td>\n",
       "      <td>1.45</td>\n",
       "    </tr>\n",
       "    <tr>\n",
       "      <th>2017-07-07</th>\n",
       "      <td>253.94</td>\n",
       "      <td>1801485.06</td>\n",
       "      <td>266.48</td>\n",
       "      <td>-12.54</td>\n",
       "    </tr>\n",
       "    <tr>\n",
       "      <th>2017-07-08</th>\n",
       "      <td>241.55</td>\n",
       "      <td>1356294.00</td>\n",
       "      <td>253.94</td>\n",
       "      <td>-12.39</td>\n",
       "    </tr>\n",
       "    <tr>\n",
       "      <th>2017-07-09</th>\n",
       "      <td>244.81</td>\n",
       "      <td>729444.92</td>\n",
       "      <td>241.55</td>\n",
       "      <td>3.27</td>\n",
       "    </tr>\n",
       "    <tr>\n",
       "      <th>2017-07-10</th>\n",
       "      <td>225.42</td>\n",
       "      <td>3483141.83</td>\n",
       "      <td>244.81</td>\n",
       "      <td>-19.39</td>\n",
       "    </tr>\n",
       "  </tbody>\n",
       "</table>\n",
       "</div>"
      ],
      "text/plain": [
       "            Close     Volume  shift(1)  diff(1)\n",
       "Date                                           \n",
       "2017-07-01 265.28 2198771.14       NaN      NaN\n",
       "2017-07-02 269.78 2177595.32    265.28     4.50\n",
       "2017-07-03 278.88 1459014.73    269.78     9.10\n",
       "2017-07-04 276.74 1254579.39    278.88    -2.14\n",
       "2017-07-05 265.03 1797923.44    276.74   -11.72\n",
       "2017-07-06 266.48  962700.63    265.03     1.45\n",
       "2017-07-07 253.94 1801485.06    266.48   -12.54\n",
       "2017-07-08 241.55 1356294.00    253.94   -12.39\n",
       "2017-07-09 244.81  729444.92    241.55     3.27\n",
       "2017-07-10 225.42 3483141.83    244.81   -19.39"
      ]
     },
     "execution_count": 94,
     "metadata": {},
     "output_type": "execute_result"
    }
   ],
   "source": [
    "# create a new column 'diff(1)'\n",
    "df_daily['diff(1)'] = df_daily.Close.diff(1)\n",
    "df_daily.head(10)"
   ]
  },
  {
   "cell_type": "code",
   "execution_count": 95,
   "id": "e2eb7266-69fc-4c86-8cbf-80d2f9cf685d",
   "metadata": {},
   "outputs": [
    {
     "data": {
      "text/plain": [
       "[<matplotlib.lines.Line2D at 0x7fd1132dabb0>]"
      ]
     },
     "execution_count": 95,
     "metadata": {},
     "output_type": "execute_result"
    },
    {
     "data": {
      "image/png": "[encoded data removed]",
      "text/plain": [
       "<Figure size 576x432 with 1 Axes>"
      ]
     },
     "metadata": {},
     "output_type": "display_data"
    }
   ],
   "source": [
    "plt.plot(df.Close)"
   ]
  },
  {
   "cell_type": "code",
   "execution_count": 97,
   "id": "a27614a9-417e-4ee9-ab53-a17be9750642",
   "metadata": {},
   "outputs": [
    {
     "data": {
      "text/plain": [
       "(17348.0, 18048.0)"
      ]
     },
     "execution_count": 97,
     "metadata": {},
     "output_type": "execute_result"
    },
    {
     "data": {
      "image/png": "[encoded data removed]",
      "text/plain": [
       "<Figure size 576x432 with 1 Axes>"
      ]
     },
     "metadata": {},
     "output_type": "display_data"
    }
   ],
   "source": [
    "# %matplotlib inline\n",
    "# Use for shift/diff to calculate 1 year rate of return\n",
    "\n",
    "((df_daily.Close.shift(-365)/df_daily.Close -1) *100).plot()\n",
    "plt.ylabel('% Return on Investment')\n",
    "plt.title('1-Year Rate of return on ETH')\n",
    "plt.xlim(pd.Timestamp('2017-07'), pd.Timestamp('2019-06'))"
   ]
  },
  {
   "cell_type": "markdown",
   "id": "4d50f406-689f-48b1-a2af-17d63fa11231",
   "metadata": {},
   "source": [
    "# Time Zone"
   ]
  },
  {
   "cell_type": "code",
   "execution_count": 98,
   "id": "ec9b9001-7731-4717-b528-16a540c885e7",
   "metadata": {},
   "outputs": [
    {
     "data": {
      "text/plain": [
       "Timestamp('2020-04-14 10:20:20')"
      ]
     },
     "execution_count": 98,
     "metadata": {},
     "output_type": "execute_result"
    }
   ],
   "source": [
    "# datetime with no timezone specified (sometimes called timezone naive datetime object)\n",
    "\n",
    "t = pd.Timestamp('2020-04-14 10:20:20')\n",
    "t"
   ]
  },
  {
   "cell_type": "code",
   "execution_count": 99,
   "id": "c1f6394b-d377-43b4-86a7-17fa5511e460",
   "metadata": {},
   "outputs": [
    {
     "data": {
      "text/plain": [
       "Timestamp('2020-04-14 07:50:00-0500', tz='US/Central')"
      ]
     },
     "execution_count": 99,
     "metadata": {},
     "output_type": "execute_result"
    }
   ],
   "source": [
    "#create a datetime object with specify timezone\n",
    "\n",
    "t1 = pd.Timestamp('2020-04-14, 07:50', tz = 'US/Central')\n",
    "t1"
   ]
  },
  {
   "cell_type": "code",
   "execution_count": 100,
   "id": "f14444d7-81d7-4262-9be6-4a969b298e75",
   "metadata": {},
   "outputs": [
    {
     "data": {
      "text/plain": [
       "Timestamp('2020-04-14 10:20:20-0500', tz='US/Central')"
      ]
     },
     "execution_count": 100,
     "metadata": {},
     "output_type": "execute_result"
    }
   ],
   "source": [
    "# localize a naive timezone\n",
    "t_localized = t.tz_localize('US/Central')\n",
    "t_localized"
   ]
  },
  {
   "cell_type": "code",
   "execution_count": 101,
   "id": "65e13f3f-89e8-4628-9000-660fadaeee52",
   "metadata": {},
   "outputs": [
    {
     "data": {
      "text/plain": [
       "Timestamp('2020-04-15 00:20:20+0900', tz='Asia/Tokyo')"
      ]
     },
     "execution_count": 101,
     "metadata": {},
     "output_type": "execute_result"
    }
   ],
   "source": [
    "# convert to a different timezone\n",
    "\n",
    "t_localized.tz_convert(tz = 'Asia/tokyo')"
   ]
  },
  {
   "cell_type": "code",
   "execution_count": 102,
   "id": "09a04b13-3190-4961-94d5-69881967214a",
   "metadata": {},
   "outputs": [
    {
     "ename": "TypeError",
     "evalue": "Cannot convert tz-naive Timestamp, use tz_localize to localize",
     "output_type": "error",
     "traceback": [
      "\u001b[0;31m---------------------------------------------------------------------------\u001b[0m",
      "\u001b[0;31mTypeError\u001b[0m                                 Traceback (most recent call last)",
      "\u001b[0;32m/var/folders/dy/6l70n7994h596yst0fdjbly40000gn/T/ipykernel_69901/2059049653.py\u001b[0m in \u001b[0;36m<module>\u001b[0;34m\u001b[0m\n\u001b[1;32m      1\u001b[0m \u001b[0;31m# Can I convert a naive timestamp to a particular timezone?\u001b[0m\u001b[0;34m\u001b[0m\u001b[0;34m\u001b[0m\u001b[0m\n\u001b[0;32m----> 2\u001b[0;31m \u001b[0mt\u001b[0m\u001b[0;34m.\u001b[0m\u001b[0mtz_convert\u001b[0m\u001b[0;34m(\u001b[0m\u001b[0mtz\u001b[0m \u001b[0;34m=\u001b[0m \u001b[0;34m'Asia/tokyo'\u001b[0m\u001b[0;34m)\u001b[0m\u001b[0;34m\u001b[0m\u001b[0;34m\u001b[0m\u001b[0m\n\u001b[0m",
      "\u001b[0;32m/usr/local/anaconda3/lib/python3.9/site-packages/pandas/_libs/tslibs/timestamps.pyx\u001b[0m in \u001b[0;36mpandas._libs.tslibs.timestamps.Timestamp.tz_convert\u001b[0;34m()\u001b[0m\n",
      "\u001b[0;31mTypeError\u001b[0m: Cannot convert tz-naive Timestamp, use tz_localize to localize"
     ]
    }
   ],
   "source": [
    "# Can I convert a naive timestamp to a particular timezone?\n",
    "t.tz_convert(tz = 'Asia/tokyo')"
   ]
  },
  {
   "cell_type": "markdown",
   "id": "786363e6-f580-46fa-84d7-c8f2f818dad5",
   "metadata": {},
   "source": [
    "# Time Delta"
   ]
  },
  {
   "cell_type": "code",
   "execution_count": 103,
   "id": "8793a394-20c1-40a3-a9da-5a74b68f2c3a",
   "metadata": {},
   "outputs": [
    {
     "data": {
      "text/plain": [
       "Timestamp('2022-04-12 15:46:26.665604')"
      ]
     },
     "execution_count": 103,
     "metadata": {},
     "output_type": "execute_result"
    }
   ],
   "source": [
    "# What is date and time right now? Take any datetime object and use .now() method\n",
    "\n",
    "pd.Timestamp.now()"
   ]
  },
  {
   "cell_type": "code",
   "execution_count": 104,
   "id": "a56ba2ae-fc9a-4d4d-bbc9-b055411e7379",
   "metadata": {},
   "outputs": [
    {
     "data": {
      "text/plain": [
       "Timedelta('728 days 05:26:16.085369')"
      ]
     },
     "execution_count": 104,
     "metadata": {},
     "output_type": "execute_result"
    }
   ],
   "source": [
    "# time delta between now (today's date) and t\n",
    "\n",
    "(pd.Timestamp.now() - t)"
   ]
  },
  {
   "cell_type": "code",
   "execution_count": 105,
   "id": "668eac98-7496-4505-947c-64c39b7f5b39",
   "metadata": {},
   "outputs": [
    {
     "ename": "TypeError",
     "evalue": "Timestamp subtraction must have the same timezones or no timezones",
     "output_type": "error",
     "traceback": [
      "\u001b[0;31m---------------------------------------------------------------------------\u001b[0m",
      "\u001b[0;31mTypeError\u001b[0m                                 Traceback (most recent call last)",
      "\u001b[0;32m/var/folders/dy/6l70n7994h596yst0fdjbly40000gn/T/ipykernel_69901/1643614549.py\u001b[0m in \u001b[0;36m<module>\u001b[0;34m\u001b[0m\n\u001b[1;32m      2\u001b[0m \u001b[0;34m\u001b[0m\u001b[0m\n\u001b[1;32m      3\u001b[0m \u001b[0mt\u001b[0m\u001b[0;34m,\u001b[0m \u001b[0mt_localized\u001b[0m\u001b[0;34m\u001b[0m\u001b[0;34m\u001b[0m\u001b[0m\n\u001b[0;32m----> 4\u001b[0;31m \u001b[0mt\u001b[0m\u001b[0;34m-\u001b[0m\u001b[0mt_localized\u001b[0m\u001b[0;34m\u001b[0m\u001b[0;34m\u001b[0m\u001b[0m\n\u001b[0m",
      "\u001b[0;32m/usr/local/anaconda3/lib/python3.9/site-packages/pandas/_libs/tslibs/timestamps.pyx\u001b[0m in \u001b[0;36mpandas._libs.tslibs.timestamps._Timestamp.__sub__\u001b[0;34m()\u001b[0m\n",
      "\u001b[0;31mTypeError\u001b[0m: Timestamp subtraction must have the same timezones or no timezones"
     ]
    }
   ],
   "source": [
    "# Can we find time delta between t and t1?\n",
    "\n",
    "t, t_localized\n",
    "t-t_localized"
   ]
  },
  {
   "cell_type": "code",
   "execution_count": 106,
   "id": "a0bdd351-d187-4457-a187-cd86b6f2f068",
   "metadata": {},
   "outputs": [
    {
     "data": {
      "text/plain": [
       "728"
      ]
     },
     "execution_count": 106,
     "metadata": {},
     "output_type": "execute_result"
    }
   ],
   "source": [
    "# To convert the above Timedelta object to a number:\n",
    "\n",
    "(pd.Timestamp.now() - t) // pd.Timedelta('1d')"
   ]
  },
  {
   "cell_type": "code",
   "execution_count": null,
   "id": "5b47aabe-3184-468e-a99b-94737d0519dc",
   "metadata": {},
   "outputs": [],
   "source": []
  }
 ],
 "metadata": {
  "kernelspec": {
   "display_name": "Python 3 (ipykernel)",
   "language": "python",
   "name": "python3"
  },
  "language_info": {
   "codemirror_mode": {
    "name": "ipython",
    "version": 3
   },
   "file_extension": ".py",
   "mimetype": "text/x-python",
   "name": "python",
   "nbconvert_exporter": "python",
   "pygments_lexer": "ipython3",
   "version": "3.9.7"
  }
 },
 "nbformat": 4,
 "nbformat_minor": 5
}
